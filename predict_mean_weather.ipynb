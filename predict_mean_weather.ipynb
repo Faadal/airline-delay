{
 "cells": [
  {
   "cell_type": "markdown",
   "metadata": {},
   "source": [
    "## Discounting weather from Historical Arrival Delays\n",
    "\n",
    "Our model has been trained to predict ARR_DELAY given flight features (UNIQUE_CARRIER, ORIGIN, DESTINATION, etc) and weather features (PRECIP, WIND_SPEED, VISIBILITY, etc)\n",
    "\n",
    "To discount the effect of weather on historical delays, we predict ARR_DELAY for each flight with the mean weather of the origin and destination airport."
   ]
  },
  {
   "cell_type": "code",
   "execution_count": 1,
   "metadata": {
    "collapsed": true
   },
   "outputs": [],
   "source": [
    "import pandas as pd\n",
    "import numpy as np\n",
    "import time\n",
    "from sklearn.externals import joblib"
   ]
  },
  {
   "cell_type": "code",
   "execution_count": 2,
   "metadata": {
    "collapsed": false
   },
   "outputs": [
    {
     "name": "stdout",
     "output_type": "stream",
     "text": [
      "Finished reading CSV file in 131.5650839805603 seconds\n"
     ]
    }
   ],
   "source": [
    "tic = time.time()\n",
    "\n",
    "#PREPARE DF FOR PREDICTION WITH MEAN CLIMATE\n",
    "df = pd.read_csv('Airline+Weather_data.csv')\n",
    "\n",
    "toc = time.time()\n",
    "print(\"Finished reading CSV file in \" + str(toc-tic) + \" seconds\")"
   ]
  },
  {
   "cell_type": "code",
   "execution_count": 4,
   "metadata": {
    "collapsed": false
   },
   "outputs": [
    {
     "name": "stdout",
     "output_type": "stream",
     "text": [
      "Finished preparing data in 402.5950961112976 seconds\n"
     ]
    }
   ],
   "source": [
    "#Prepare the data\n",
    "tic = time.time()\n",
    "\n",
    "#Drop Variables which do not have correlation with arrival delays/cannot be predicted until the flight\n",
    "df = df.drop(['YEAR','DAY_OF_MONTH','FL_NUM','CRS_DEP_TIME','DEP_TIME','DEP_DELAY','CRS_ARR_TIME','ARR_TIME','ACTUAL_ELAPSED_TIME','AIR_TIME','DEP_HOURLYVISIBILITY','DEP_HOURLYDRYBULBTEMPC','DEP_HOURLYWindSpeed','DEP_HOURLYPrecip','ARR_HOURLYVISIBILITY','ARR_HOURLYDRYBULBTEMPC','ARR_HOURLYWindSpeed','ARR_HOURLYPrecip'],axis=1).copy()\n",
    "#Remove data redundancy\n",
    "df['ARR_HOUR'] = df['ARR_HOUR'].apply(lambda x:0 if x == 24 else x)\n",
    "#Drop rows with Null Values\n",
    "df.dropna(inplace=True)\n",
    "\n",
    "#Convert to Dummy Variables\n",
    "df = pd.concat([df,pd.get_dummies(df['MONTH'],drop_first=True,prefix=\"MONTH\")],axis=1)\n",
    "df = pd.concat([df,pd.get_dummies(df['DAY_OF_WEEK'],drop_first=True,prefix=\"DAY_OF_WEEK\")],axis=1)\n",
    "df = pd.concat([df,pd.get_dummies(df['UNIQUE_CARRIER'],drop_first=True,prefix=\"UNIQUE_CARRIER\")],axis=1)\n",
    "df = pd.concat([df,pd.get_dummies(df['ORIGIN'],drop_first=True,prefix=\"ORIGIN\")],axis=1)\n",
    "df = pd.concat([df,pd.get_dummies(df['DEST'],drop_first=True,prefix=\"DEST\")],axis=1)\n",
    "df = pd.concat([df,pd.get_dummies(df['DEP_HOUR'],drop_first=True,prefix=\"DEP_HOUR\")],axis=1)\n",
    "df = pd.concat([df,pd.get_dummies(df['ARR_HOUR'],drop_first=True,prefix=\"ARR_HOUR\")],axis=1)\n",
    "\n",
    "#Extra columns to be kept are: ARR_DELAY,DAY_OF_WEEK,UNIQUE_CARRIER,DEP_HOUR\n",
    "df.drop(['MONTH','ORIGIN','DEST','ARR_HOUR'],axis=1,inplace=True)\n",
    "\n",
    "toc = time.time()\n",
    "print(\"Finished preparing data in \" + str(toc-tic) + \" seconds\")"
   ]
  },
  {
   "cell_type": "code",
   "execution_count": null,
   "metadata": {
    "collapsed": true
   },
   "outputs": [],
   "source": []
  },
  {
   "cell_type": "code",
   "execution_count": 10,
   "metadata": {
    "collapsed": false
   },
   "outputs": [
    {
     "name": "stdout",
     "output_type": "stream",
     "text": [
      "0\n",
      "1000000\n",
      "2000000\n",
      "3000000\n",
      "4000000\n",
      "5000000\n",
      "6000000\n",
      "7000000\n",
      "8000000\n",
      "9000000\n",
      "10000000\n",
      "Finished prediction in 167.36039519309998 seconds\n"
     ]
    }
   ],
   "source": [
    "tic =time.time()\n",
    "\n",
    "n = df.shape[0]  # number of rows\n",
    "batch_size = 1000000  # number of rows in each call to partial_fit\n",
    "index = 0  # helper-var\n",
    "df_predicted = pd.DataFrame()\n",
    "\n",
    "lm = joblib.load('linearmodel.pkl') \n",
    "\n",
    "while index < n:\n",
    "    print(index)\n",
    "    partial_size = min(batch_size, n - index)  # needed because last loop is possibly incomplete\n",
    "    \n",
    "    df_predict = df[index:index+partial_size][['ARR_DELAY','DAY_OF_WEEK','UNIQUE_CARRIER','DEP_HOUR']]\n",
    "    \n",
    "    X = df[index:index+partial_size].drop(['ARR_DELAY','DAY_OF_WEEK','UNIQUE_CARRIER','DEP_HOUR'],axis=1)\n",
    "    \n",
    "    #Predict Delay in minutes (for all flights)\n",
    "    predictions = lm.predict(X)\n",
    "    df_predict['PREDICTED_ARR_DELAY']=[np.exp(p) for p in predictions]\n",
    "\n",
    "    \n",
    "    #Do the Logistic Regression to decide if flight was greater than 5 min late or not\n",
    "    n_models = 10 #Number of models to average over\n",
    "    df_predict['PREDICTED_DELAY_YN'] = np.zeros(len(df_predict.index))\n",
    "    \n",
    "    for i in range(n_models):\n",
    "        logmodel = joblib.load(str(i)+'_logmodel.pkl') \n",
    "        df_predict['PREDICTED_DELAY_YN'] = df_predict['PREDICTED_DELAY_YN'] + logmodel.predict_proba(X)[:,1]\n",
    "    \n",
    "    #Take mean of probability of getting DELAY_YN = 1(i.e. Delay greater than 5 min) from all the models\n",
    "    df_predict['PREDICTED_DELAY_YN'] = df_predict['PREDICTED_DELAY_YN']/n_models\n",
    "    df_predict['PREDICTED_DELAY_YN'] = df_predict['PREDICTED_DELAY_YN'].apply(lambda x:1 if x>0.46 else 0) #Take 0.46 as threshold\n",
    "   \n",
    "    #If Logistic Regression predicts DELAY_YN = 0, then PREDICTED_ARR_DELAY = 0\n",
    "    df_predict['PREDICTED_ARR_DELAY'] = df_predict['PREDICTED_ARR_DELAY'].multiply(df_predict['PREDICTED_DELAY_YN'])\n",
    "    df_predict['ARR_DELAY'] = df_predict['ARR_DELAY'].apply(lambda x:x if x>=5 else 0)\n",
    "\n",
    "    df_predicted = df_predicted.append(df_predict)\n",
    "    del df_predict\n",
    "\n",
    "    index += partial_size    \n",
    "df_predicted.to_csv('predicted_data.csv',index=False)\n",
    "\n",
    "toc = time.time()\n",
    "print(\"Finished prediction in \" + str(toc-tic) + \" seconds\")"
   ]
  },
  {
   "cell_type": "code",
   "execution_count": null,
   "metadata": {
    "collapsed": false
   },
   "outputs": [],
   "source": []
  },
  {
   "cell_type": "code",
   "execution_count": null,
   "metadata": {
    "collapsed": true
   },
   "outputs": [],
   "source": []
  }
 ],
 "metadata": {
  "anaconda-cloud": {},
  "kernelspec": {
   "display_name": "Python [conda root]",
   "language": "python",
   "name": "conda-root-py"
  },
  "language_info": {
   "codemirror_mode": {
    "name": "ipython",
    "version": 3
   },
   "file_extension": ".py",
   "mimetype": "text/x-python",
   "name": "python",
   "nbconvert_exporter": "python",
   "pygments_lexer": "ipython3",
   "version": "3.5.2"
  }
 },
 "nbformat": 4,
 "nbformat_minor": 1
}
