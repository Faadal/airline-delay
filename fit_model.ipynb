{
 "cells": [
  {
   "cell_type": "markdown",
   "metadata": {},
   "source": [
    "## Machine Learning model to predict airline delay\n",
    "\n",
    "The objective of our model is to predict arrival delay. Arrival Delay (ARR_DELAY) is highyl skewed, majority of flights having zero or a small arrival delay. We break the problem into two subparts: \n",
    "\n",
    "### Delay Classification Model\n",
    "* Classify [0/1] whether a flight is delayed more than 5 minutes or not\n",
    "* Trained a Logistic Regression model\n",
    "* Trained on 400000/600000 splits of positive and negative samples\n",
    "* Averaged predictions over n=100 models\n",
    "* Output probability of delay P(delay)\n",
    "\n",
    "### Predicted Delay\n",
    "* Regression using Linear Regression\n",
    "* Trained on only on positive delays (ARR_DELAY>=5)"
   ]
  },
  {
   "cell_type": "code",
   "execution_count": 1,
   "metadata": {
    "collapsed": true
   },
   "outputs": [],
   "source": [
    "import pandas as pd\n",
    "import numpy as np\n",
    "import time\n",
    "from sklearn.externals import joblib"
   ]
  },
  {
   "cell_type": "code",
   "execution_count": 2,
   "metadata": {
    "collapsed": false
   },
   "outputs": [
    {
     "name": "stdout",
     "output_type": "stream",
     "text": [
      "Finished reading CSV file in 133.84136319160461 seconds\n"
     ]
    }
   ],
   "source": [
    "tic = time.time()\n",
    "\n",
    "#PREPARE DF FOR REGRESSION WITH CLIMATE\n",
    "df = pd.read_csv('Airline+Weather_data.csv')\n",
    "\n",
    "toc = time.time()\n",
    "print(\"Finished reading CSV file in \" + str(toc-tic) + \" seconds\")"
   ]
  },
  {
   "cell_type": "code",
   "execution_count": 3,
   "metadata": {
    "collapsed": true
   },
   "outputs": [],
   "source": [
    "#Prepare the data\n",
    "tic = time.time()\n",
    "\n",
    "#Drop Variables which do not have correlation with arrival delays/cannot be predicted until the flight\n",
    "df.drop(['YEAR','DAY_OF_MONTH','FL_NUM','CRS_DEP_TIME','DEP_TIME','DEP_DELAY','CRS_ARR_TIME','ARR_TIME','ACTUAL_ELAPSED_TIME','AIR_TIME','DEP_AVG_HOURLYVISIBILITY','DEP_AVG_HOURLYDRYBULBTEMPC','DEP_AVG_HOURLYWindSpeed','DEP_AVG_HOURLYPrecip','ARR_AVG_HOURLYVISIBILITY','ARR_AVG_HOURLYDRYBULBTEMPC','ARR_AVG_HOURLYWindSpeed','ARR_AVG_HOURLYPrecip'],axis=1, inplace=True)\n",
    "#Remove data redundancy\n",
    "df['ARR_HOUR'] = df['ARR_HOUR'].apply(lambda x:0 if x == 24 else x)\n",
    "#Drop rows with Null Values\n",
    "df.dropna(inplace=True)\n",
    "\n",
    "#Convert to Dummy Variables\n",
    "df = pd.concat([df,pd.get_dummies(df['MONTH'],drop_first=True,prefix=\"MONTH\")],axis=1)\n",
    "df = pd.concat([df,pd.get_dummies(df['DAY_OF_WEEK'],drop_first=True,prefix=\"DAY_OF_WEEK\")],axis=1)\n",
    "df = pd.concat([df,pd.get_dummies(df['UNIQUE_CARRIER'],drop_first=True,prefix=\"UNIQUE_CARRIER\")],axis=1)\n",
    "df = pd.concat([df,pd.get_dummies(df['ORIGIN'],drop_first=True,prefix=\"ORIGIN\")],axis=1)\n",
    "df = pd.concat([df,pd.get_dummies(df['DEST'],drop_first=True,prefix=\"DEST\")],axis=1)\n",
    "df = pd.concat([df,pd.get_dummies(df['DEP_HOUR'],drop_first=True,prefix=\"DEP_HOUR\")],axis=1)\n",
    "df = pd.concat([df,pd.get_dummies(df['ARR_HOUR'],drop_first=True,prefix=\"ARR_HOUR\")],axis=1)\n",
    "\n",
    "df.drop(['MONTH','DAY_OF_WEEK','UNIQUE_CARRIER','ORIGIN','DEST','DEP_HOUR','ARR_HOUR'],axis=1,inplace=True)\n",
    "#DELAY_YN -> Delay Yes or No -> 1 if Delay>5 minutes, else 0\n",
    "df['DELAY_YN'] = df['ARR_DELAY'].apply(lambda x:1 if x>=5 else 0)\n",
    "\n",
    "toc = time.time()\n",
    "print(\"Finished preparing data in \" + str(toc-tic) + \" seconds\")"
   ]
  },
  {
   "cell_type": "code",
   "execution_count": 4,
   "metadata": {
    "collapsed": true
   },
   "outputs": [],
   "source": []
  },
  {
   "cell_type": "code",
   "execution_count": 85,
   "metadata": {
    "collapsed": false
   },
   "outputs": [
    {
     "name": "stdout",
     "output_type": "stream",
     "text": [
      "Accuracy: 0.68899\n",
      "1th fold took 130.5088438987732 seconds\n",
      "Accuracy: 0.68074\n",
      "2th fold took 119.45041298866272 seconds\n",
      "Accuracy: 0.70721\n",
      "3th fold took 129.92791295051575 seconds\n",
      "Accuracy: 0.66568\n",
      "4th fold took 121.2253348827362 seconds\n",
      "Accuracy: 0.673\n",
      "5th fold took 128.84892797470093 seconds\n",
      "Accuracy: 0.69951\n",
      "6th fold took 132.01799082756042 seconds\n",
      "Accuracy: 0.66381\n",
      "7th fold took 118.65123891830444 seconds\n",
      "Accuracy: 0.69405\n",
      "8th fold took 127.84729886054993 seconds\n",
      "Accuracy: 0.68276\n",
      "9th fold took 126.42221188545227 seconds\n",
      "Accuracy: 0.69443\n",
      "10th fold took 125.44659209251404 seconds\n"
     ]
    }
   ],
   "source": [
    "#Create 'n' different Logistic Regression Models\n",
    "\n",
    "from sklearn.model_selection import train_test_split\n",
    "from sklearn.linear_model import LogisticRegression\n",
    "\n",
    "n = 10 #Number of models to average over\n",
    "\n",
    "for i in range(n):\n",
    "    \n",
    "    tic = time.time()\n",
    "    #Create a randomly selected smaller dataset for training purpose\n",
    "    #Each dataset should have negative and positive classes in the ratio 60:40\n",
    "    df_split = df.loc[np.random.choice(df[df['DELAY_YN']==1].index, 400000, replace = True)]\n",
    "    df_split2 = df.loc[np.random.choice(df[df['DELAY_YN']==0].index, 600000, replace = False)]\n",
    "    df_split = df_split.append(df_split2, ignore_index=True)\n",
    "\n",
    "    X_train, X_test, y_train, y_test = train_test_split(df_split.drop(['DELAY_YN','ARR_DELAY'],axis=1),\n",
    "                                                    df_split['DELAY_YN'], test_size=0.10, random_state=101)\n",
    "\n",
    "    logmodel = LogisticRegression()\n",
    "    logmodel.fit(X_train,y_train)\n",
    "    \n",
    "    predictions = logmodel.predict(X_test)\n",
    "\n",
    "    truePos = X_test[((predictions == 1) & (y_test == predictions))]\n",
    "    falsePos = X_test[((predictions == 1) & (y_test != predictions))]\n",
    "    trueNeg = X_test[((predictions == 0) & (y_test == predictions))]\n",
    "    falseNeg = X_test[((predictions == 0) & (y_test != predictions))]\n",
    "\n",
    "    TP = truePos.shape[0]\n",
    "    FP = falsePos.shape[0]\n",
    "    TN = trueNeg.shape[0]\n",
    "    FN = falseNeg.shape[0]\n",
    "\n",
    "    accuracy = float(TP + TN)/float(TP + TN + FP + FN)\n",
    "    print('Accuracy: '+str(accuracy))\n",
    "    \n",
    "    joblib.dump(logmodel, str(i)+'_logmodel.pkl') \n",
    "    \n",
    "    toc = time.time()\n",
    "    print(str(i+1)+\"th fold took \" + str(toc-tic) + \" seconds\")    "
   ]
  },
  {
   "cell_type": "code",
   "execution_count": null,
   "metadata": {
    "collapsed": false
   },
   "outputs": [],
   "source": []
  },
  {
   "cell_type": "code",
   "execution_count": 86,
   "metadata": {
    "collapsed": false
   },
   "outputs": [
    {
     "name": "stdout",
     "output_type": "stream",
     "text": [
      "Accuracy: 0.732409\n",
      "Accuracy: 0.725514\n",
      "Accuracy: 0.747362\n",
      "Accuracy: 0.711334\n",
      "Accuracy: 0.719382\n",
      "Accuracy: 0.74036\n",
      "Accuracy: 0.71206\n",
      "Accuracy: 0.738032\n",
      "Accuracy: 0.726516\n",
      "Accuracy: 0.733834\n"
     ]
    }
   ],
   "source": [
    "#Test the Model performance (on Training data only)\n",
    "df2 = df.loc[np.random.choice(df.index, 1000000, replace = False)]\n",
    "X_test = df2.drop(['ARR_DELAY','DELAY_YN'],axis=1)\n",
    "y_test = df2['DELAY_YN']\n",
    "\n",
    "n = 10 #Number of models to average over\n",
    "df2['DELAY_YN'] = np.zeros(len(df2.index))\n",
    "\n",
    "for i in range(n):\n",
    "    logmodel = joblib.load(str(i)+'_logmodel.pkl') \n",
    "    predictions = logmodel.predict(X_test)\n",
    "    \n",
    "    df2['DELAY_YN'] = df2['DELAY_YN'] + logmodel.predict_proba(X_test)[:,1]\n",
    "    \n",
    "    truePos = X_test[((predictions == 1) & (y_test == predictions))]\n",
    "    falsePos = X_test[((predictions == 1) & (y_test != predictions))]\n",
    "    trueNeg = X_test[((predictions == 0) & (y_test == predictions))]\n",
    "    falseNeg = X_test[((predictions == 0) & (y_test != predictions))]\n",
    "\n",
    "    TP = truePos.shape[0]\n",
    "    FP = falsePos.shape[0]\n",
    "    TN = trueNeg.shape[0]\n",
    "    FN = falseNeg.shape[0]\n",
    "\n",
    "    accuracy = float(TP + TN)/float(TP + TN + FP + FN)\n",
    "    print('Accuracy: '+str(accuracy))"
   ]
  },
  {
   "cell_type": "code",
   "execution_count": 92,
   "metadata": {
    "collapsed": false
   },
   "outputs": [
    {
     "name": "stdout",
     "output_type": "stream",
     "text": [
      "Final Accuracy: 0.712627\n",
      "TP: 158341\n",
      "FP: 145880\n",
      "TN: 554286\n",
      "FN: 141493\n",
      "% of positive predictions:\n",
      "0.304221\n"
     ]
    }
   ],
   "source": [
    "#Take Average of probabilities for positive class (DELAY_YN = 1). If average probability>0.5, assign value=1\n",
    "df2['DELAY_YN_vote'] = df2['DELAY_YN']/n\n",
    "df2['DELAY_YN_vote'] = df2['DELAY_YN_vote'].apply(lambda x:1 if x>0.46 else 0) #Take Vote\n",
    "\n",
    "truePos = X_test[((df2['DELAY_YN_vote'] == 1) & (y_test == df2['DELAY_YN_vote']))]\n",
    "falsePos = X_test[((df2['DELAY_YN_vote'] == 1) & (y_test != df2['DELAY_YN_vote']))]\n",
    "trueNeg = X_test[((df2['DELAY_YN_vote'] == 0) & (y_test == df2['DELAY_YN_vote']))]\n",
    "falseNeg = X_test[((df2['DELAY_YN_vote'] == 0) & (y_test != df2['DELAY_YN_vote']))]\n",
    "\n",
    "TP = truePos.shape[0]\n",
    "FP = falsePos.shape[0]\n",
    "TN = trueNeg.shape[0]\n",
    "FN = falseNeg.shape[0]\n",
    "\n",
    "accuracy = float(TP + TN)/float(TP + TN + FP + FN)\n",
    "print('Final Accuracy: '+str(accuracy))\n",
    "print('TP: '+str(TP))\n",
    "print('FP: '+str(FP))\n",
    "print('TN: '+str(TN))\n",
    "print('FN: '+str(FN))\n",
    "print('% of positive predictions:')\n",
    "print(len(df2[df2['DELAY_YN_vote']==1].index)/len(df2.index))"
   ]
  },
  {
   "cell_type": "code",
   "execution_count": null,
   "metadata": {
    "collapsed": false
   },
   "outputs": [],
   "source": []
  },
  {
   "cell_type": "code",
   "execution_count": null,
   "metadata": {
    "collapsed": false
   },
   "outputs": [],
   "source": []
  },
  {
   "cell_type": "code",
   "execution_count": 93,
   "metadata": {
    "collapsed": false
   },
   "outputs": [
    {
     "name": "stdout",
     "output_type": "stream",
     "text": [
      "Total positive delay datapoints:3165541\n"
     ]
    }
   ],
   "source": [
    "#Linear Regression on whole dataset\n",
    "df_late = df[df['DELAY_YN']==1].copy()\n",
    "df_late['log_delay'] = np.log(df_late['ARR_DELAY'])\n",
    "\n",
    "print('Total positive delay datapoints:' + str(len(df_late.index)))"
   ]
  },
  {
   "cell_type": "code",
   "execution_count": 94,
   "metadata": {
    "collapsed": false
   },
   "outputs": [
    {
     "name": "stdout",
     "output_type": "stream",
     "text": [
      "Training...\n",
      "Predicting on test set...\n",
      "MAE: 25.9202623843\n",
      "MSE: 2647.93839559\n",
      "RMSE: 51.4581227368\n",
      "Finished fitting Linear Regression in 149.62631487846375 seconds\n"
     ]
    }
   ],
   "source": [
    "#Modeling ARR_DELAY\n",
    "tic = time.time()\n",
    "\n",
    "from sklearn.model_selection import train_test_split\n",
    "X_train, X_test, y_train, y_test = train_test_split(df_late.drop(['DELAY_YN','log_delay'],axis=1), \n",
    "                                                    df_late['log_delay'], test_size=0.30, random_state=101)\n",
    "\n",
    "print('Training...')\n",
    "from sklearn.linear_model import LinearRegression\n",
    "lm = LinearRegression(normalize=True)\n",
    "lm.fit(X_train.drop('ARR_DELAY',axis=1),y_train)\n",
    "\n",
    "print('Predicting on test set...')\n",
    "predictions = lm.predict(X_test.drop('ARR_DELAY',axis=1))\n",
    "\n",
    "X_test['predicted']=[np.exp(p) for p in predictions]\n",
    "\n",
    "from sklearn import metrics\n",
    "print('MAE:', metrics.mean_absolute_error(X_test['ARR_DELAY'],X_test['predicted']))\n",
    "print('MSE:', metrics.mean_squared_error(X_test['ARR_DELAY'],X_test['predicted']))\n",
    "print('RMSE:', np.sqrt(metrics.mean_squared_error(X_test['ARR_DELAY'],X_test['predicted'])))\n",
    "\n",
    "joblib.dump(lm, 'linearmodel.pkl')\n",
    "\n",
    "toc = time.time()\n",
    "print(\"Finished fitting Linear Regression in \" + str(toc-tic) + \" seconds\")"
   ]
  },
  {
   "cell_type": "code",
   "execution_count": null,
   "metadata": {
    "collapsed": true
   },
   "outputs": [],
   "source": []
  }
 ],
 "metadata": {
  "anaconda-cloud": {},
  "kernelspec": {
   "display_name": "Python [conda root]",
   "language": "python",
   "name": "conda-root-py"
  },
  "language_info": {
   "codemirror_mode": {
    "name": "ipython",
    "version": 3
   },
   "file_extension": ".py",
   "mimetype": "text/x-python",
   "name": "python",
   "nbconvert_exporter": "python",
   "pygments_lexer": "ipython3",
   "version": "3.5.2"
  }
 },
 "nbformat": 4,
 "nbformat_minor": 1
}
