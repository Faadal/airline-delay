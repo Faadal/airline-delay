{
 "cells": [
  {
   "cell_type": "markdown",
   "metadata": {},
   "source": [
    "# Predicting Airline Delay Project\n",
    "## Part 2: Adding the weather data\n",
    "In this part, we load the entire airline dataset, clean the data and make a subset of the data containing flights originating and ending in the 50 busiest airports. Then we append the weather data for origin and destination airports at the time of takeoff (CSR_DEP_TIME) and landing (CSR_ARR_TIME). "
   ]
  },
  {
   "cell_type": "code",
   "execution_count": 2,
   "metadata": {
    "collapsed": false
   },
   "outputs": [],
   "source": [
    "import pandas as pd"
   ]
  },
  {
   "cell_type": "code",
   "execution_count": 3,
   "metadata": {
    "collapsed": false
   },
   "outputs": [],
   "source": [
    "df = pd.read_csv('Full_airline_data.csv')"
   ]
  },
  {
   "cell_type": "markdown",
   "metadata": {},
   "source": [
    "## To join with our weather data, the top 50 airports (sorted by air traffic) are selected.\n",
    "** It is observed that ~62% of all flights originate and end in the top 50 airports"
   ]
  },
  {
   "cell_type": "code",
   "execution_count": 4,
   "metadata": {
    "collapsed": false
   },
   "outputs": [],
   "source": [
    "#Make subset of data containing only flights from top 50 airports\n",
    "top50_airport = pd.read_csv('top50airports.csv')['IATA'].tolist()\n",
    "df_sub = df[df['ORIGIN'].isin(top50_airport)]\n",
    "df_sub = df_sub[df_sub['DEST'].isin(top50_airport)]"
   ]
  },
  {
   "cell_type": "code",
   "execution_count": 5,
   "metadata": {
    "collapsed": false
   },
   "outputs": [
    {
     "name": "stdout",
     "output_type": "stream",
     "text": [
      "Data Retained: 62.34 %\n"
     ]
    }
   ],
   "source": [
    "#Check the % of data retained:\n",
    "data_retained = len(df_sub.index)/len(df.index)\n",
    "print('Data Retained: '+str(round(data_retained*100,2))+' %')"
   ]
  },
  {
   "cell_type": "markdown",
   "metadata": {},
   "source": [
    "## Join the Weather dataset obtained from www.ncdc.noaa.gov.in:"
   ]
  },
  {
   "cell_type": "code",
   "execution_count": null,
   "metadata": {
    "collapsed": false
   },
   "outputs": [],
   "source": [
    "#Read the weather csv files\n",
    "tic = time.time()\n",
    "#Read all the airline data files\n",
    "df_weather = pd.DataFrame()\n",
    "\n",
    "f = []\n",
    "for (dirpath,dirnames,filenames) in walk('weather/'):\n",
    "    f.extend(filenames)\n",
    "    break\n",
    "\n",
    "for file in f[1:]:\n",
    "    df_weather = df_weather.append(pd.read_csv('weather/'+file,low_memory=False))\n",
    "    \n",
    "toc = time.time()\n",
    "print(toc-tic)"
   ]
  },
  {
   "cell_type": "code",
   "execution_count": null,
   "metadata": {
    "collapsed": false
   },
   "outputs": [],
   "source": [
    "#Select the weather parameters which affect flight status: Visibility, Temperature, Wind Speed, Precipitation\n",
    "df_weather = df_weather[['STATION_NAME','DATE','HOURLYVISIBILITY','HOURLYDRYBULBTEMPC','HOURLYWindSpeed','HOURLYPrecip']].copy()"
   ]
  },
  {
   "cell_type": "markdown",
   "metadata": {},
   "source": [
    "## Preparing the Weather dataset:\n",
    "* Replace Long format station name with IATA codes #Need to fix an automated way to do this\n",
    "* Fix incorrect and erroneous data, such as characters in temperature fields, etc\n",
    "* Convert Timestamp into YEAR, MONTH, DAY_OF_MONTH and HOUR\n",
    "* Remove duplicates from the dataset, i.e. multiple entries from same STATION for same HOUR on a particular Date\n",
    "* Replace NaN with 0 in HOURLY_PRECIP\n",
    "* Replace NaN with Mean Visibility in HOURLYVISIBILITY"
   ]
  },
  {
   "cell_type": "code",
   "execution_count": null,
   "metadata": {
    "collapsed": false
   },
   "outputs": [],
   "source": [
    "#Replacing Long Format Station Names with IATA Airport codes\n",
    "df_weather['STATION_NAME'].replace('ATLANTA HARTSFIELD INTERNATIONAL AIRPORT GA US','ATL',inplace=True)\n",
    "df_weather['STATION_NAME'].replace('CHICAGO OHARE INTERNATIONAL AIRPORT IL US','ORD',inplace=True)\n",
    "df_weather['STATION_NAME'].replace('DAL FTW WSCMO AIRPORT TX US','DFW',inplace=True)\n",
    "df_weather['STATION_NAME'].replace('DENVER INTERNATIONAL AIRPORT CO US','DEN',inplace=True)\n",
    "df_weather['STATION_NAME'].replace('LOS ANGELES INTERNATIONAL AIRPORT CA US','LAX',inplace=True)\n",
    "df_weather['STATION_NAME'].replace('SAN FRANCISCO INTERNATIONAL AIRPORT CA US','SFO',inplace=True)\n",
    "df_weather['STATION_NAME'].replace('PHOENIX SKY HARBOR INTERNATIONAL AIRPORT AZ US','PHX',inplace=True)\n",
    "df_weather['STATION_NAME'].replace('HOUSTON INTERCONTINENTAL AIRPORT TX US','IAH',inplace=True)\n",
    "df_weather['STATION_NAME'].replace('LAS VEGAS MCCARRAN INTERNATIONAL AIRPORT NV US','LAS',inplace=True)\n",
    "df_weather['STATION_NAME'].replace('MINNEAPOLIS ST PAUL INTERNATIONAL AIRPORT MN US','MSP',inplace=True)\n",
    "df_weather['STATION_NAME'].replace('DETROIT METROPOLITAN AIRPORT MI US','DTW',inplace=True)\n",
    "df_weather['STATION_NAME'].replace('SEATTLE TACOMA INTERNATIONAL AIRPORT WA US','SEA',inplace=True)\n",
    "df_weather['STATION_NAME'].replace('ORLANDO INTERNATIONAL AIRPORT FL US','MCO',inplace=True)\n",
    "df_weather['STATION_NAME'].replace('BOSTON MA US','BOS',inplace=True)\n",
    "df_weather['STATION_NAME'].replace('CHARLOTTE DOUGLAS AIRPORT NC US','CLT',inplace=True)\n",
    "df_weather['STATION_NAME'].replace('NEWARK LIBERTY INTERNATIONAL AIRPORT NJ US','EWR',inplace=True)\n",
    "df_weather['STATION_NAME'].replace('SALT LAKE CITY INTERNATIONAL AIRPORT UT US','SLC',inplace=True)\n",
    "df_weather['STATION_NAME'].replace('LA GUARDIA AIRPORT NY US','LGA',inplace=True)\n",
    "df_weather['STATION_NAME'].replace('JFK INTERNATIONAL AIRPORT NY US','JFK',inplace=True)\n",
    "df_weather['STATION_NAME'].replace('BALTIMORE WASHINGTON INTERNATIONAL AIRPORT MD US','BWI',inplace=True)\n",
    "df_weather['STATION_NAME'].replace('CHICAGO MIDWAY AIRPORT IL US','MDW',inplace=True)\n",
    "df_weather['STATION_NAME'].replace('MIAMI INTERNATIONAL AIRPORT FL US','MIA',inplace=True)\n",
    "df_weather['STATION_NAME'].replace('SAN DIEGO INTERNATIONAL AIRPORT CA US','SAN',inplace=True)\n",
    "df_weather['STATION_NAME'].replace('WASHINGTON REAGAN NATIONAL AIRPORT VA US','DCA',inplace=True)\n",
    "df_weather['STATION_NAME'].replace('FORT LAUDERDALE HOLLYWOOD INTERNATIONAL AIRPORT FL US','FLL',inplace=True)\n",
    "df_weather['STATION_NAME'].replace('PHILADELPHIA INTERNATIONAL AIRPORT PA US','PHL',inplace=True)\n",
    "df_weather['STATION_NAME'].replace('TAMPA INTERNATIONAL AIRPORT FL US','TPA',inplace=True)\n",
    "df_weather['STATION_NAME'].replace('DALLAS FAA AIRPORT TX US','DAL',inplace=True)\n",
    "df_weather['STATION_NAME'].replace('HOUSTON WILLIAM P HOBBY AIRPORT TX US','HOU',inplace=True)\n",
    "df_weather['STATION_NAME'].replace('PORTLAND INTERNATIONAL AIRPORT OR US','PDX',inplace=True)\n",
    "df_weather['STATION_NAME'].replace('NASHVILLE INTERNATIONAL AIRPORT TN US','BNA',inplace=True)\n",
    "df_weather['STATION_NAME'].replace('ST LOUIS LAMBERT INTERNATIONAL AIRPORT MO US','STL',inplace=True)\n",
    "df_weather['STATION_NAME'].replace('WASHINGTON DULLES INTERNATIONAL AIRPORT VA US','IAD',inplace=True)\n",
    "df_weather['STATION_NAME'].replace('HONOLULU INTERNATIONAL AIRPORT HI US','HNL',inplace=True)\n",
    "df_weather['STATION_NAME'].replace('OAKLAND METROPOLITAN INTERNATIONAL AIRPORT CA US','OAK',inplace=True)\n",
    "df_weather['STATION_NAME'].replace('AUSTIN BERGSTROM INTERNATIONAL AIRPORT TX US','AUS',inplace=True)\n",
    "df_weather['STATION_NAME'].replace('KANSAS CITY INTERNATIONAL AIRPORT MO US','MCI',inplace=True)\n",
    "df_weather['STATION_NAME'].replace('NEW ORLEANS INTERNATIONAL AIRPORT LA US','MSY',inplace=True)\n",
    "df_weather['STATION_NAME'].replace('SAN JOSE CA US','SJC',inplace=True)\n",
    "df_weather['STATION_NAME'].replace('SACRAMENTO METROPOLITAN AIRPORT CA US','SMF',inplace=True)\n",
    "df_weather['STATION_NAME'].replace('SANTA ANA JOHN WAYNE AIRPORT CA US','SNA',inplace=True)\n",
    "df_weather['STATION_NAME'].replace('CLEVELAND HOPKINS INTERNATIONAL AIRPORT OH US','CLE',inplace=True)\n",
    "df_weather['STATION_NAME'].replace('RALEIGH AIRPORT NC US','RDU',inplace=True)\n",
    "df_weather['STATION_NAME'].replace('MILWAUKEE MITCHELL INTERNATIONAL AIRPORT WI US','MKE',inplace=True)\n",
    "df_weather['STATION_NAME'].replace('SAN ANTONIO INTERNATIONAL AIRPORT TX US','SAT',inplace=True)\n",
    "df_weather['STATION_NAME'].replace('INDIANAPOLIS INTERNATIONAL AIRPORT IN US','IND',inplace=True)\n",
    "df_weather['STATION_NAME'].replace('FORT MYERS SW FLORIDA REGIONAL AIRPORT FL US','RSW',inplace=True)\n",
    "df_weather['STATION_NAME'].replace('PITTSBURGH ASOS PA US','PIT',inplace=True)\n",
    "df_weather['STATION_NAME'].replace('SAN JUAN L M MARIN INTERNATIONAL AIRPORT US','SJU',inplace=True)\n",
    "df_weather['STATION_NAME'].replace('PORT COLUMBUS INTERNATIONAL AIRPORT OH US','CMH',inplace=True)"
   ]
  },
  {
   "cell_type": "code",
   "execution_count": null,
   "metadata": {
    "collapsed": false
   },
   "outputs": [],
   "source": [
    "def tryconvert(x):\n",
    "        try:\n",
    "            if str(x)[-1].isalpha():\n",
    "                return(float(str(x)[:-1]))\n",
    "            else:\n",
    "                return(float(str(x)))\n",
    "        except:\n",
    "            return(np.nan)\n",
    "\n",
    "#Get the Year, Month, Date and Hour from df_weather\n",
    "#Delete duplicate rows with data from the same station and same date/hour\n",
    "#Delete \"DATE\"\n",
    "\n",
    "df_weather['DATE'] = pd.to_datetime(df_weather['DATE'])\n",
    "\n",
    "df_weather['YEAR']= df_weather['DATE'].apply(lambda time: time.year)\n",
    "df_weather['MONTH']= df_weather['DATE'].apply(lambda time: time.month)\n",
    "df_weather['DAY_OF_MONTH']= df_weather['DATE'].apply(lambda time: time.day)\n",
    "df_weather['HOUR']= df_weather['DATE'].apply(lambda time: time.hour)\n",
    "\n",
    "df_weather.drop_duplicates(['STATION_NAME','YEAR','MONTH','DAY_OF_MONTH','HOUR'],inplace=True)\n",
    "df_weather.drop('DATE',axis = 1,inplace=True)\n",
    "\n",
    "df_weather['HOURLYVISIBILITY'] = df_weather['HOURLYVISIBILITY'].apply(lambda x: tryconvert(x))\n",
    "df_weather['HOURLYDRYBULBTEMPC'] = df_weather['HOURLYDRYBULBTEMPC'].apply(lambda x: tryconvert(x))\n",
    "df_weather['HOURLYWindSpeed'] = df_weather['HOURLYWindSpeed'].apply(lambda x: tryconvert(x))\n",
    "df_weather['HOURLYPrecip'] = df_weather['HOURLYPrecip'].apply(lambda x: tryconvert(x))\n",
    "\n",
    "#Replace NaNs with 0 in Hourly Precip\n",
    "df_weather['HOURLYPrecip'].fillna(value=0,inplace=True)\n",
    "#Replace NaNs with average value for Hourly Visibility\n",
    "df_weather['HOURLYVISIBILITY'].fillna(df_weather['HOURLYVISIBILITY'].mean(),inplace=True)"
   ]
  },
  {
   "cell_type": "code",
   "execution_count": null,
   "metadata": {
    "collapsed": false
   },
   "outputs": [],
   "source": []
  },
  {
   "cell_type": "code",
   "execution_count": null,
   "metadata": {
    "collapsed": false
   },
   "outputs": [],
   "source": [
    "#Check for any missing data:\n",
    "#Missing data will show up as Yellow lines\n",
    "sns.heatmap(df_weather.isnull(),yticklabels=False,cbar=False,cmap='viridis')"
   ]
  },
  {
   "cell_type": "markdown",
   "metadata": {},
   "source": [
    "## Calculate Average Weather values for each station\n",
    "For every weather station, we calculate the average or mean weather parameters, i.e. Annual Mean Temperature, Annual Mean Precipitation, Annual Mean Visibility etc.\n",
    "Two Dataframes are created for simplicity - One for Origin, and one for Destination. They are the same dataframes, except for the Column Names. "
   ]
  },
  {
   "cell_type": "code",
   "execution_count": null,
   "metadata": {
    "collapsed": true
   },
   "outputs": [],
   "source": [
    "df_avg_DEP = df_weather.groupby('STATION_NAME').mean()\n",
    "df_avg_DEP.drop(['YEAR','MONTH','DAY_OF_MONTH','HOUR'],axis = 1,inplace=True)\n",
    "df_avg_DEP.reset_index(drop=False,inplace=True)\n",
    "df_avg_DEP.rename(index=str, columns={\"STATION_NAME\": \"ORIGIN\"},inplace=True)\n",
    "df_avg_DEP.rename(index=str, columns={\"HOURLYVISIBILITY\": \"DEP_AVG_HOURLYVISIBILITY\"},inplace=True)\n",
    "df_avg_DEP.rename(index=str, columns={\"HOURLYDRYBULBTEMPC\": \"DEP_AVG_HOURLYDRYBULBTEMPC\"},inplace=True)\n",
    "df_avg_DEP.rename(index=str, columns={\"HOURLYWindSpeed\": \"DEP_AVG_HOURLYWindSpeed\"},inplace=True)\n",
    "df_avg_DEP.rename(index=str, columns={\"HOURLYPrecip\": \"DEP_AVG_HOURLYPrecip\"},inplace=True)\n",
    "\n",
    "df_avg_ARR = df_weather.groupby('STATION_NAME').mean()\n",
    "df_avg_ARR.drop(['YEAR','MONTH','DAY_OF_MONTH','HOUR'],axis = 1,inplace=True)\n",
    "df_avg_ARR.reset_index(drop=False,inplace=True)\n",
    "df_avg_ARR.rename(index=str, columns={\"STATION_NAME\": \"DEST\"},inplace=True)\n",
    "df_avg_ARR.rename(index=str, columns={\"HOURLYVISIBILITY\": \"ARR_AVG_HOURLYVISIBILITY\"},inplace=True)\n",
    "df_avg_ARR.rename(index=str, columns={\"HOURLYDRYBULBTEMPC\": \"ARR_AVG_HOURLYDRYBULBTEMPC\"},inplace=True)\n",
    "df_avg_ARR.rename(index=str, columns={\"HOURLYWindSpeed\": \"ARR_AVG_HOURLYWindSpeed\"},inplace=True)\n",
    "df_avg_ARR.rename(index=str, columns={\"HOURLYPrecip\": \"ARR_AVG_HOURLYPrecip\"},inplace=True)"
   ]
  },
  {
   "cell_type": "code",
   "execution_count": null,
   "metadata": {
    "collapsed": true
   },
   "outputs": [],
   "source": [
    "#Create two copies of the Weather Dataframe, so that we can two Joins, one for Origin, and one for Destination\n",
    "df_weather_origin = df_weather.copy()\n",
    "df_weather_dest = df_weather.copy()\n",
    "del df_weather\n",
    "\n",
    "#Rename the Columns, add DEP_ to each column name and STATION_NAME to ORIGIN\n",
    "df_weather_origin.rename(index=str, columns={\"STATION_NAME\": \"ORIGIN\"},inplace=True)\n",
    "df_weather_origin.rename(index=str, columns={\"HOURLYVISIBILITY\": \"DEP_HOURLYVISIBILITY\"},inplace=True)\n",
    "df_weather_origin.rename(index=str, columns={\"HOURLYDRYBULBTEMPC\": \"DEP_HOURLYDRYBULBTEMPC\"},inplace=True)\n",
    "df_weather_origin.rename(index=str, columns={\"HOURLYWindSpeed\": \"DEP_HOURLYWindSpeed\"},inplace=True)\n",
    "df_weather_origin.rename(index=str, columns={\"HOURLYPrecip\": \"DEP_HOURLYPrecip\"},inplace=True)\n",
    "df_weather_origin.rename(index=str, columns={\"HOUR\": \"DEP_HOUR\"},inplace=True)\n",
    "\n",
    "#Rename the Columns, add ARR_ to each column name and STATION_NAME to DEST\n",
    "df_weather_dest.rename(index=str, columns={\"STATION_NAME\": \"DEST\"},inplace=True)\n",
    "df_weather_dest.rename(index=str, columns={\"HOURLYVISIBILITY\": \"ARR_HOURLYVISIBILITY\"},inplace=True)\n",
    "df_weather_dest.rename(index=str, columns={\"HOURLYDRYBULBTEMPC\": \"ARR_HOURLYDRYBULBTEMPC\"},inplace=True)\n",
    "df_weather_dest.rename(index=str, columns={\"HOURLYWindSpeed\": \"ARR_HOURLYWindSpeed\"},inplace=True)\n",
    "df_weather_dest.rename(index=str, columns={\"HOURLYPrecip\": \"ARR_HOURLYPrecip\"},inplace=True)\n",
    "df_weather_dest.rename(index=str, columns={\"HOUR\": \"ARR_HOUR\"},inplace=True)"
   ]
  },
  {
   "cell_type": "markdown",
   "metadata": {},
   "source": [
    "## Join the Actual Weather and Average Weather for Origin and Destination Airports for each flight in the df_sub DataFrame"
   ]
  },
  {
   "cell_type": "code",
   "execution_count": null,
   "metadata": {
    "collapsed": true
   },
   "outputs": [],
   "source": [
    "#Merge the Actual Weather during Take-off and Landing for each flight \n",
    "df_sub = pd.merge(df_sub, df_weather_origin, on=['ORIGIN','YEAR','MONTH','DAY_OF_MONTH','DEP_HOUR'], how='left')\n",
    "df_sub = pd.merge(df_sub, df_weather_dest, on=['DEST','YEAR','MONTH','DAY_OF_MONTH','ARR_HOUR'], how='left')\n",
    " "
   ]
  },
  {
   "cell_type": "code",
   "execution_count": null,
   "metadata": {
    "collapsed": true
   },
   "outputs": [],
   "source": [
    "#Merge the Average weather for Origin and Destination Airports for each flight:\n",
    "df_sub = pd.merge(df_sub,df_avg_DEP,how='left',on='ORIGIN')\n",
    "df_sub = pd.merge(df_sub,df_avg_ARR,how='left',on='DEST')"
   ]
  },
  {
   "cell_type": "markdown",
   "metadata": {},
   "source": [
    "## Save both DataFrames as .csv files"
   ]
  },
  {
   "cell_type": "code",
   "execution_count": null,
   "metadata": {
    "collapsed": false
   },
   "outputs": [],
   "source": [
    "tic = time.time()\n",
    "df_sub.to_csv('Airline+Weather_data.csv',index=False)\n",
    "toc = time.time()\n",
    "print(toc-tic)"
   ]
  },
  {
   "cell_type": "code",
   "execution_count": null,
   "metadata": {
    "collapsed": true
   },
   "outputs": [],
   "source": [
    "#Create a randomly selected smaller dataset for testing purposes\n",
    "df2 = df_sub.loc[np.random.choice(df.index, 1000000, replace = False)]\n",
    "df2.to_csv('medium_data.csv',index=False)"
   ]
  }
 ],
 "metadata": {
  "anaconda-cloud": {},
  "kernelspec": {
   "display_name": "Python [conda root]",
   "language": "python",
   "name": "conda-root-py"
  },
  "language_info": {
   "codemirror_mode": {
    "name": "ipython",
    "version": 3
   },
   "file_extension": ".py",
   "mimetype": "text/x-python",
   "name": "python",
   "nbconvert_exporter": "python",
   "pygments_lexer": "ipython3",
   "version": "3.5.2"
  }
 },
 "nbformat": 4,
 "nbformat_minor": 1
}
