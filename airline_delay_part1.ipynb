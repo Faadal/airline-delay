{
 "cells": [
  {
   "cell_type": "markdown",
   "metadata": {},
   "source": [
    "# Predicting Airline Delay Project\n",
    "## Part 1: Isolating the top 50 Airports by Traffic\n",
    "In this part, we load the entire airline dataset and get a list of the top 50 airports by traffic (Departures + Arrivals). Then we plot the top 50 airports on a map of USA using plotly and cufflinks. "
   ]
  },
  {
   "cell_type": "code",
   "execution_count": 1,
   "metadata": {
    "collapsed": true
   },
   "outputs": [],
   "source": [
    "import pandas as pd\n",
    "from os import walk\n",
    "import time\n",
    "import plotly.plotly as py\n",
    "%matplotlib inline"
   ]
  },
  {
   "cell_type": "code",
   "execution_count": 8,
   "metadata": {
    "collapsed": false
   },
   "outputs": [],
   "source": [
    "#Read all the files\n",
    "df = pd.DataFrame()\n",
    "\n",
    "f = []\n",
    "for (dirpath, dirnames, filenames) in walk('airline_data/'):\n",
    "    f.extend(filenames)\n",
    "    break\n",
    "    \n",
    "for file in f[1:]:\n",
    "    df = df.append(pd.read_csv('airline_data/' + file)[['ORIGIN','DEST']])  "
   ]
  },
  {
   "cell_type": "code",
   "execution_count": 23,
   "metadata": {
    "collapsed": false
   },
   "outputs": [],
   "source": [
    "#Create a new dataframe combining the Arrival and Destination Airports\n",
    "df = pd.DataFrame(pd.concat([df['ORIGIN'],df['DEST']]),columns={'IATA'})"
   ]
  },
  {
   "cell_type": "code",
   "execution_count": 35,
   "metadata": {
    "collapsed": false
   },
   "outputs": [],
   "source": [
    "#Select the Top 50 Airports \n",
    "df_top50 = pd.DataFrame(df['IATA'].value_counts().head(50)).reset_index()\n",
    "df_top50.rename(index=str, columns={\"index\":\"IATA\",\"IATA\":\"Count\"},inplace=True)"
   ]
  },
  {
   "cell_type": "markdown",
   "metadata": {},
   "source": [
    "To plot the Airports, we import Latitude and Longitude from [OpenFlights.org](http://openflights.org/data.html)"
   ]
  },
  {
   "cell_type": "code",
   "execution_count": 40,
   "metadata": {
    "collapsed": false
   },
   "outputs": [],
   "source": [
    "#Read Airport data\n",
    "df_airports = pd.read_csv('airports.dat')\n",
    "df_airports = df_airports[df_airports['Country']=='United States'][['IATA','Latitude','Longitude']].copy()"
   ]
  },
  {
   "cell_type": "code",
   "execution_count": 42,
   "metadata": {
    "collapsed": false
   },
   "outputs": [],
   "source": [
    "#Merge with the DataFrame containing the list of Top 50 Airports\n",
    "df_top50 = pd.merge(df_top50,df_airports,on=\"IATA\")"
   ]
  },
  {
   "cell_type": "code",
   "execution_count": null,
   "metadata": {
    "collapsed": false
   },
   "outputs": [],
   "source": []
  },
  {
   "cell_type": "code",
   "execution_count": 47,
   "metadata": {
    "collapsed": false
   },
   "outputs": [
    {
     "data": {
      "text/html": [
       "<iframe id=\"igraph\" scrolling=\"no\" style=\"border:none;\" seamless=\"seamless\" src=\"https://plot.ly/~rajarshi.es/8.embed\" height=\"525px\" width=\"100%\"></iframe>"
      ],
      "text/plain": [
       "<plotly.tools.PlotlyDisplay object>"
      ]
     },
     "execution_count": 47,
     "metadata": {},
     "output_type": "execute_result"
    }
   ],
   "source": [
    "#Map the Airports as a Bubble map, with size corresponding to Traffic\n",
    "\n",
    "#First create a new columns with Textual information\n",
    "df_top50['text'] = df_top50['IATA'] + '<br>Total Flights: ' + (df_top50['Count']/1e3).astype(str)+' (Thousands)'\n",
    "\n",
    "#Create plot using Plotly\n",
    "limits = [(0,10),(11,30),(31,50)]\n",
    "colors = [\"rgb(0,116,217)\",\"rgb(255,65,54)\",\"rgb(133,20,75)\"]\n",
    "names = [\"Top 10 Busiest\",\"11-30\",\"31-50\"]\n",
    "cities = []\n",
    "scale = 2500\n",
    "\n",
    "for i in range(len(limits)):\n",
    "    lim = limits[i]\n",
    "    df_sub = df_top50[lim[0]:lim[1]]\n",
    "    city = dict(\n",
    "        type = 'scattergeo',\n",
    "        locationmode = 'USA-states',\n",
    "        lon = df_sub['Longitude'],\n",
    "        lat = df_sub['Latitude'],\n",
    "        text = df_sub['text'],\n",
    "        marker = dict(\n",
    "            size = df_sub['Count']/scale,\n",
    "            color = colors[i],\n",
    "            line = dict(width=0.5, color='rgb(40,40,40)'),\n",
    "            sizemode = 'area'\n",
    "        ),\n",
    "        name = names[i] )\n",
    "    cities.append(city)\n",
    "    \n",
    "layout = dict(\n",
    "        title = 'Top 50 Busiest Airports by Traffic',\n",
    "        showlegend = True,\n",
    "        geo = dict(\n",
    "            scope='usa',\n",
    "            projection=dict( type='albers usa' ),\n",
    "            showland = True,\n",
    "            landcolor = 'rgb(217, 217, 217)',\n",
    "            subunitwidth=1,\n",
    "            countrywidth=1,\n",
    "            subunitcolor=\"rgb(255, 255, 255)\",\n",
    "            countrycolor=\"rgb(255, 255, 255)\"\n",
    "        ),\n",
    "    )\n",
    "\n",
    "fig = dict( data=cities, layout=layout )\n",
    "py.iplot( fig, validate=False, filename='d3-map-airports' )"
   ]
  },
  {
   "cell_type": "code",
   "execution_count": null,
   "metadata": {
    "collapsed": true
   },
   "outputs": [],
   "source": []
  }
 ],
 "metadata": {
  "anaconda-cloud": {},
  "kernelspec": {
   "display_name": "Python [conda root]",
   "language": "python",
   "name": "conda-root-py"
  },
  "language_info": {
   "codemirror_mode": {
    "name": "ipython",
    "version": 3
   },
   "file_extension": ".py",
   "mimetype": "text/x-python",
   "name": "python",
   "nbconvert_exporter": "python",
   "pygments_lexer": "ipython3",
   "version": "3.5.2"
  }
 },
 "nbformat": 4,
 "nbformat_minor": 1
}
