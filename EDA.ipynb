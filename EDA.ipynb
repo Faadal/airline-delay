{
 "cells": [
  {
   "cell_type": "markdown",
   "metadata": {
    "collapsed": true
   },
   "source": [
    "# Predicting Airline Delay Project\n",
    "## Part 1: Preparing the Data for Analysis\n",
    "In this part, we load the entire airline dataset, clean the data and create data visualizations"
   ]
  },
  {
   "cell_type": "code",
   "execution_count": 1,
   "metadata": {
    "collapsed": true
   },
   "outputs": [],
   "source": [
    "import pandas as pd\n",
    "import numpy as np\n",
    "from os import walk\n",
    "import time\n",
    "import matplotlib.pyplot as plt\n",
    "import seaborn as sns\n",
    "%matplotlib inline\n",
    "sns.set_style('whitegrid')"
   ]
  },
  {
   "cell_type": "code",
   "execution_count": 2,
   "metadata": {
    "collapsed": false
   },
   "outputs": [
    {
     "name": "stdout",
     "output_type": "stream",
     "text": [
      "695.0234820842743\n"
     ]
    }
   ],
   "source": [
    "tic = time.time()\n",
    "#Read all the airline data files\n",
    "df = pd.DataFrame()\n",
    "\n",
    "f = []\n",
    "for (dirpath,dirnames,filenames) in walk('airline_data/'):\n",
    "    f.extend(filenames)\n",
    "    break\n",
    "\n",
    "for file in f[1:]:\n",
    "    df = df.append(pd.read_csv('airline_data/'+file))\n",
    "    \n",
    "toc = time.time()\n",
    "print(toc-tic)"
   ]
  },
  {
   "cell_type": "markdown",
   "metadata": {},
   "source": [
    "## Cleaning up the Data\n",
    "* Vizualize missing data using seaborn heatmap\n",
    "* Remove unimportant columns\n",
    "* Remove CARRIER_DELAY, WEATHER_DELAY, NAS_DELAY, SECURITY_DELAY, LATE_AIRCRAFT_DELAY\n",
    "* Drop rows which have NaNs in the following fields: UNIQUE_CARRIER, ORIGIN, DEST, CRS_DEP_TIME, CRS_ARR_TIME, ARR_DELAY, CRS_ELAPSED_TIME, DISTANCE\n",
    "\n",
    "## Prepare the Data\n",
    "* Get the Departure and Arrival Hour from the Timestamp (0-23)"
   ]
  },
  {
   "cell_type": "code",
   "execution_count": 3,
   "metadata": {
    "collapsed": true
   },
   "outputs": [],
   "source": [
    "#Remove columns which are not used in analysis\n",
    "df.drop(['ORIGIN_STATE_ABR','ORIGIN_AIRPORT_ID','DEST_AIRPORT_ID','DEST_STATE_ABR'],axis=1,inplace=True)\n",
    "#Delete the categorized delay variables because less than 10% records have these data. Rest are NaNs\n",
    "df.drop(['Unnamed: 27','CARRIER_DELAY','WEATHER_DELAY','NAS_DELAY','SECURITY_DELAY','LATE_AIRCRAFT_DELAY'],axis=1,inplace=True)"
   ]
  },
  {
   "cell_type": "code",
   "execution_count": 4,
   "metadata": {
    "collapsed": false
   },
   "outputs": [
    {
     "name": "stdout",
     "output_type": "stream",
     "text": [
      "Data Retained: 98.06 %\n"
     ]
    }
   ],
   "source": [
    "#Drop rows with missing data in the important columns, i.e. the predictors for flight delay\n",
    "total_data_rows = len(df.index)\n",
    "#Drop NaNs\n",
    "df.dropna(subset = ['UNIQUE_CARRIER','ORIGIN','DEST','CRS_DEP_TIME','CRS_ARR_TIME','ARR_DELAY','CRS_ELAPSED_TIME','DISTANCE'],inplace=True)\n",
    "data_retained = len(df.index)/total_data_rows\n",
    "print('Data Retained: '+str(round(data_retained*100,2))+' %')"
   ]
  },
  {
   "cell_type": "code",
   "execution_count": 10,
   "metadata": {
    "collapsed": true
   },
   "outputs": [],
   "source": [
    "#Get the Departure and Arrival Hours\n",
    "#For DEP_HOUR, take the CRS_DEP_TIME\n",
    "df['DEP_HOUR'] = df['CRS_DEP_TIME'].apply(lambda x:int(str(x)[:2]) if x>999 else int(str(x)[:1] if x>99 else 0))\n",
    "#For ARR_HOUR, take the actual arrival time\n",
    "df['ARR_HOUR'] = df['ARR_TIME'].apply(lambda x:int(str(x)[:2]) if x>999 else int(str(x)[:1] if x>99 else 0))\n",
    "df['ARR_HOUR'] = df['ARR_HOUR'].apply(lambda x:0 if x==24 else x)"
   ]
  },
  {
   "cell_type": "code",
   "execution_count": 12,
   "metadata": {
    "collapsed": false
   },
   "outputs": [
    {
     "name": "stdout",
     "output_type": "stream",
     "text": [
      "461.29819107055664\n"
     ]
    }
   ],
   "source": [
    "#Save the Dataframe as .csv file\n",
    "tic = time.time()\n",
    "df.to_csv('Full_airline_data.csv',index=False)\n",
    "toc = time.time()\n",
    "print(toc-tic)"
   ]
  },
  {
   "cell_type": "markdown",
   "metadata": {},
   "source": [
    "## Initial Data Exploration"
   ]
  },
  {
   "cell_type": "code",
   "execution_count": 13,
   "metadata": {
    "collapsed": false
   },
   "outputs": [
    {
     "data": {
      "text/plain": [
       "17144203"
      ]
     },
     "execution_count": 13,
     "metadata": {},
     "output_type": "execute_result"
    }
   ],
   "source": [
    "#Total number of flights in our dataset:\n",
    "len(df.index)"
   ]
  },
  {
   "cell_type": "code",
   "execution_count": 15,
   "metadata": {
    "collapsed": false
   },
   "outputs": [
    {
     "data": {
      "text/plain": [
       "15654.816438356165"
      ]
     },
     "execution_count": 15,
     "metadata": {},
     "output_type": "execute_result"
    }
   ],
   "source": [
    "#Average number of flights per day in 2015:\n",
    "len(df[df['YEAR']==2015].index)/365"
   ]
  },
  {
   "cell_type": "code",
   "execution_count": 14,
   "metadata": {
    "collapsed": false
   },
   "outputs": [
    {
     "data": {
      "text/plain": [
       "0.18855697170641295"
      ]
     },
     "execution_count": 14,
     "metadata": {},
     "output_type": "execute_result"
    }
   ],
   "source": [
    "#Percent of flights with delays greater than 15 minutes:\n",
    "len(df[df['ARR_DELAY']>15].index)/len(df.index)"
   ]
  },
  {
   "cell_type": "code",
   "execution_count": 16,
   "metadata": {
    "collapsed": false
   },
   "outputs": [
    {
     "data": {
      "text/html": [
       "<div>\n",
       "<table border=\"1\" class=\"dataframe\">\n",
       "  <thead>\n",
       "    <tr style=\"text-align: right;\">\n",
       "      <th></th>\n",
       "      <th>YEAR</th>\n",
       "      <th>MONTH</th>\n",
       "      <th>DAY_OF_MONTH</th>\n",
       "      <th>DAY_OF_WEEK</th>\n",
       "      <th>UNIQUE_CARRIER</th>\n",
       "      <th>FL_NUM</th>\n",
       "      <th>ORIGIN</th>\n",
       "      <th>DEST</th>\n",
       "      <th>CRS_DEP_TIME</th>\n",
       "      <th>DEP_TIME</th>\n",
       "      <th>DEP_DELAY</th>\n",
       "      <th>CRS_ARR_TIME</th>\n",
       "      <th>ARR_TIME</th>\n",
       "      <th>ARR_DELAY</th>\n",
       "      <th>CRS_ELAPSED_TIME</th>\n",
       "      <th>ACTUAL_ELAPSED_TIME</th>\n",
       "      <th>AIR_TIME</th>\n",
       "      <th>DISTANCE</th>\n",
       "      <th>DEP_HOUR</th>\n",
       "      <th>ARR_HOUR</th>\n",
       "    </tr>\n",
       "  </thead>\n",
       "  <tbody>\n",
       "    <tr>\n",
       "      <th>0</th>\n",
       "      <td>2013</td>\n",
       "      <td>10</td>\n",
       "      <td>4</td>\n",
       "      <td>5</td>\n",
       "      <td>9E</td>\n",
       "      <td>3283</td>\n",
       "      <td>ATL</td>\n",
       "      <td>OMA</td>\n",
       "      <td>855</td>\n",
       "      <td>855.0</td>\n",
       "      <td>0.0</td>\n",
       "      <td>1025</td>\n",
       "      <td>1021.0</td>\n",
       "      <td>-4.0</td>\n",
       "      <td>150.0</td>\n",
       "      <td>146.0</td>\n",
       "      <td>124.0</td>\n",
       "      <td>821.0</td>\n",
       "      <td>8</td>\n",
       "      <td>10</td>\n",
       "    </tr>\n",
       "    <tr>\n",
       "      <th>1</th>\n",
       "      <td>2013</td>\n",
       "      <td>10</td>\n",
       "      <td>26</td>\n",
       "      <td>6</td>\n",
       "      <td>9E</td>\n",
       "      <td>3283</td>\n",
       "      <td>IAH</td>\n",
       "      <td>MSP</td>\n",
       "      <td>730</td>\n",
       "      <td>722.0</td>\n",
       "      <td>-8.0</td>\n",
       "      <td>1021</td>\n",
       "      <td>1018.0</td>\n",
       "      <td>-3.0</td>\n",
       "      <td>171.0</td>\n",
       "      <td>176.0</td>\n",
       "      <td>142.0</td>\n",
       "      <td>1034.0</td>\n",
       "      <td>7</td>\n",
       "      <td>10</td>\n",
       "    </tr>\n",
       "    <tr>\n",
       "      <th>2</th>\n",
       "      <td>2013</td>\n",
       "      <td>10</td>\n",
       "      <td>12</td>\n",
       "      <td>6</td>\n",
       "      <td>9E</td>\n",
       "      <td>3283</td>\n",
       "      <td>LGA</td>\n",
       "      <td>CLT</td>\n",
       "      <td>1625</td>\n",
       "      <td>1809.0</td>\n",
       "      <td>104.0</td>\n",
       "      <td>1839</td>\n",
       "      <td>1957.0</td>\n",
       "      <td>78.0</td>\n",
       "      <td>134.0</td>\n",
       "      <td>108.0</td>\n",
       "      <td>81.0</td>\n",
       "      <td>544.0</td>\n",
       "      <td>16</td>\n",
       "      <td>19</td>\n",
       "    </tr>\n",
       "    <tr>\n",
       "      <th>3</th>\n",
       "      <td>2013</td>\n",
       "      <td>10</td>\n",
       "      <td>4</td>\n",
       "      <td>5</td>\n",
       "      <td>9E</td>\n",
       "      <td>3283</td>\n",
       "      <td>OMA</td>\n",
       "      <td>ATL</td>\n",
       "      <td>1100</td>\n",
       "      <td>1059.0</td>\n",
       "      <td>-1.0</td>\n",
       "      <td>1409</td>\n",
       "      <td>1415.0</td>\n",
       "      <td>6.0</td>\n",
       "      <td>129.0</td>\n",
       "      <td>136.0</td>\n",
       "      <td>116.0</td>\n",
       "      <td>821.0</td>\n",
       "      <td>11</td>\n",
       "      <td>14</td>\n",
       "    </tr>\n",
       "    <tr>\n",
       "      <th>4</th>\n",
       "      <td>2013</td>\n",
       "      <td>10</td>\n",
       "      <td>1</td>\n",
       "      <td>2</td>\n",
       "      <td>9E</td>\n",
       "      <td>3283</td>\n",
       "      <td>TYS</td>\n",
       "      <td>ATL</td>\n",
       "      <td>1708</td>\n",
       "      <td>1702.0</td>\n",
       "      <td>-6.0</td>\n",
       "      <td>1814</td>\n",
       "      <td>1804.0</td>\n",
       "      <td>-10.0</td>\n",
       "      <td>66.0</td>\n",
       "      <td>62.0</td>\n",
       "      <td>32.0</td>\n",
       "      <td>152.0</td>\n",
       "      <td>17</td>\n",
       "      <td>18</td>\n",
       "    </tr>\n",
       "  </tbody>\n",
       "</table>\n",
       "</div>"
      ],
      "text/plain": [
       "   YEAR  MONTH  DAY_OF_MONTH  DAY_OF_WEEK UNIQUE_CARRIER  FL_NUM ORIGIN DEST  \\\n",
       "0  2013     10             4            5             9E    3283    ATL  OMA   \n",
       "1  2013     10            26            6             9E    3283    IAH  MSP   \n",
       "2  2013     10            12            6             9E    3283    LGA  CLT   \n",
       "3  2013     10             4            5             9E    3283    OMA  ATL   \n",
       "4  2013     10             1            2             9E    3283    TYS  ATL   \n",
       "\n",
       "   CRS_DEP_TIME  DEP_TIME  DEP_DELAY  CRS_ARR_TIME  ARR_TIME  ARR_DELAY  \\\n",
       "0           855     855.0        0.0          1025    1021.0       -4.0   \n",
       "1           730     722.0       -8.0          1021    1018.0       -3.0   \n",
       "2          1625    1809.0      104.0          1839    1957.0       78.0   \n",
       "3          1100    1059.0       -1.0          1409    1415.0        6.0   \n",
       "4          1708    1702.0       -6.0          1814    1804.0      -10.0   \n",
       "\n",
       "   CRS_ELAPSED_TIME  ACTUAL_ELAPSED_TIME  AIR_TIME  DISTANCE  DEP_HOUR  \\\n",
       "0             150.0                146.0     124.0     821.0         8   \n",
       "1             171.0                176.0     142.0    1034.0         7   \n",
       "2             134.0                108.0      81.0     544.0        16   \n",
       "3             129.0                136.0     116.0     821.0        11   \n",
       "4              66.0                 62.0      32.0     152.0        17   \n",
       "\n",
       "   ARR_HOUR  \n",
       "0        10  \n",
       "1        10  \n",
       "2        19  \n",
       "3        14  \n",
       "4        18  "
      ]
     },
     "execution_count": 16,
     "metadata": {},
     "output_type": "execute_result"
    }
   ],
   "source": [
    "#Head of the data:\n",
    "df.head()"
   ]
  },
  {
   "cell_type": "markdown",
   "metadata": {},
   "source": [
    "## Arrival Delay Visualizations"
   ]
  },
  {
   "cell_type": "code",
   "execution_count": 18,
   "metadata": {
    "collapsed": true
   },
   "outputs": [],
   "source": [
    "#Visualize the ARR_DELAYS for top 10 airlines\n",
    "\n",
    "#Get the list of the 10 biggest Airline Carriers\n",
    "top10_carrier = list(df['UNIQUE_CARRIER'].value_counts().head(10).index)\n",
    "df_sub = df[df['UNIQUE_CARRIER'].isin(top10_carrier)][['UNIQUE_CARRIER','ORIGIN','DEST','ARR_DELAY']]"
   ]
  },
  {
   "cell_type": "code",
   "execution_count": 20,
   "metadata": {
    "collapsed": false
   },
   "outputs": [],
   "source": [
    "#Read the Carrier Key CSV file for full names of the Airlines\n",
    "carrier_key = pd.read_csv('L_UNIQUE_CARRIERS.csv')\n",
    "\n",
    "#Merge with the dataframe containing the 10 biggest Airline Carriers\n",
    "df_sub = pd.merge(df_sub,carrier_key,how='left',left_on='UNIQUE_CARRIER', right_on='Code')"
   ]
  },
  {
   "cell_type": "code",
   "execution_count": 23,
   "metadata": {
    "collapsed": true
   },
   "outputs": [],
   "source": [
    "#Create a copy of the dataframe for Violin plot. Delays greater than 30 minutes are clubbed to show the data at the same scale\n",
    "df_temp = df_sub.copy()\n",
    "#All delays greater than 30 minutes are clubbed at 30\n",
    "df_temp['ARR_DELAY'] = df_temp['ARR_DELAY'].apply(lambda x:30 if x>=30 else x)\n",
    "df_temp['ARR_DELAY'] = df_temp['ARR_DELAY'].apply(lambda x:-30 if x<=-30 else x)"
   ]
  },
  {
   "cell_type": "code",
   "execution_count": 24,
   "metadata": {
    "collapsed": false
   },
   "outputs": [
    {
     "data": {
      "image/png": "[encoded data removed]",
      "text/plain": [
       "<matplotlib.figure.Figure at 0x11bec4cf8>"
      ]
     },
     "metadata": {},
     "output_type": "display_data"
    }
   ],
   "source": [
    "#Create the plot in seaborn\n",
    "plt.figure(figsize=(8, 2))\n",
    "g = sns.violinplot(x=\"Description\", y=\"ARR_DELAY\", data=df_temp,palette=\"coolwarm\")\n",
    "g.set_ylabel('Arrival Delay')\n",
    "g.set_xlabel('')\n",
    "label = g.set_xticklabels(g.get_xticklabels(), rotation=90)\n",
    "fig = g.get_figure()\n",
    "fig.savefig(\"delay_violin_plot.png\", bbox_inches='tight')"
   ]
  },
  {
   "cell_type": "code",
   "execution_count": 119,
   "metadata": {
    "collapsed": false
   },
   "outputs": [],
   "source": [
    "#Plot percentage of flights delayed more than 30 minutes\n",
    "\n",
    "carrier_delay = pd.DataFrame()\n",
    "\n",
    "for UC in list(df['UNIQUE_CARRIER'].unique()):\n",
    "    perc_delayed = len(df[(df['UNIQUE_CARRIER']==UC) & (df['ARR_DELAY']>=30)].index)/len(df[df['UNIQUE_CARRIER']==UC].index)*100\n",
    "    carrier_delay = carrier_delay.append({'UNIQUE_CARRIER':UC,'percent_delayed' : perc_delayed},ignore_index=True)\n",
    "\n",
    "carrier_delay = pd.merge(carrier_delay,carrier_key,how='left',left_on='UNIQUE_CARRIER', right_on='Code')\n",
    "carrier_delay.drop(['UNIQUE_CARRIER','Code'],axis=1,inplace=True)\n",
    "carrier_delay.rename(index=str,columns={'Description':'Airline'},inplace=True)\n",
    "#Sort by percentage delayed\n",
    "carrier_delay.sort_values(by = ['percent_delayed'],ascending=False,inplace=True)"
   ]
  },
  {
   "cell_type": "code",
   "execution_count": 95,
   "metadata": {
    "collapsed": false
   },
   "outputs": [
    {
     "data": {
      "image/png": "[encoded data removed]",
      "text/plain": [
       "<matplotlib.figure.Figure at 0x11a6c32e8>"
      ]
     },
     "metadata": {},
     "output_type": "display_data"
    }
   ],
   "source": [
    "color_pal = sns.color_palette(\"OrRd\", len(carrier_delay.index))\n",
    "color_pal = color_pal[::-1]\n",
    "\n",
    "plt.figure(figsize=(6, 4))\n",
    "g = sns.barplot(x=\"percent_delayed\", y=\"Airline\", data=carrier_delay,palette=abc)\n",
    "g.set_ylabel('')\n",
    "g.set_xlabel('Percentage of flights delayed more than 30 minutes')\n",
    "fig = g.get_figure()\n",
    "fig.savefig(\"carrier_delay.png\", bbox_inches='tight')"
   ]
  },
  {
   "cell_type": "code",
   "execution_count": 121,
   "metadata": {
    "collapsed": false
   },
   "outputs": [
    {
     "data": {
      "text/html": [
       "<div>\n",
       "<table border=\"1\" class=\"dataframe\">\n",
       "  <thead>\n",
       "    <tr style=\"text-align: right;\">\n",
       "      <th></th>\n",
       "      <th>percent_delayed</th>\n",
       "      <th>Airline</th>\n",
       "    </tr>\n",
       "  </thead>\n",
       "  <tbody>\n",
       "    <tr>\n",
       "      <th>16</th>\n",
       "      <td>19.156288</td>\n",
       "      <td>Spirit Air Lines</td>\n",
       "    </tr>\n",
       "    <tr>\n",
       "      <th>6</th>\n",
       "      <td>16.089775</td>\n",
       "      <td>Frontier Airlines</td>\n",
       "    </tr>\n",
       "    <tr>\n",
       "      <th>9</th>\n",
       "      <td>15.180859</td>\n",
       "      <td>Envoy Air</td>\n",
       "    </tr>\n",
       "    <tr>\n",
       "      <th>3</th>\n",
       "      <td>14.789599</td>\n",
       "      <td>JetBlue Airways</td>\n",
       "    </tr>\n",
       "    <tr>\n",
       "      <th>5</th>\n",
       "      <td>14.383793</td>\n",
       "      <td>ExpressJet Airlines</td>\n",
       "    </tr>\n",
       "    <tr>\n",
       "      <th>11</th>\n",
       "      <td>12.959510</td>\n",
       "      <td>United Air Lines</td>\n",
       "    </tr>\n",
       "    <tr>\n",
       "      <th>14</th>\n",
       "      <td>12.614928</td>\n",
       "      <td>Southwest Airlines</td>\n",
       "    </tr>\n",
       "    <tr>\n",
       "      <th>1</th>\n",
       "      <td>12.395202</td>\n",
       "      <td>American Airlines</td>\n",
       "    </tr>\n",
       "    <tr>\n",
       "      <th>13</th>\n",
       "      <td>12.124099</td>\n",
       "      <td>Virgin America</td>\n",
       "    </tr>\n",
       "    <tr>\n",
       "      <th>10</th>\n",
       "      <td>11.866243</td>\n",
       "      <td>SkyWest Airlines</td>\n",
       "    </tr>\n",
       "    <tr>\n",
       "      <th>15</th>\n",
       "      <td>10.247464</td>\n",
       "      <td>Mesa Airlines</td>\n",
       "    </tr>\n",
       "    <tr>\n",
       "      <th>12</th>\n",
       "      <td>9.549187</td>\n",
       "      <td>US Airways</td>\n",
       "    </tr>\n",
       "    <tr>\n",
       "      <th>7</th>\n",
       "      <td>9.282494</td>\n",
       "      <td>AirTran Airways Corporation</td>\n",
       "    </tr>\n",
       "    <tr>\n",
       "      <th>0</th>\n",
       "      <td>8.580086</td>\n",
       "      <td>Endeavor Air</td>\n",
       "    </tr>\n",
       "    <tr>\n",
       "      <th>4</th>\n",
       "      <td>8.298007</td>\n",
       "      <td>Delta Air Lines</td>\n",
       "    </tr>\n",
       "    <tr>\n",
       "      <th>2</th>\n",
       "      <td>6.331633</td>\n",
       "      <td>Alaska Airlines</td>\n",
       "    </tr>\n",
       "    <tr>\n",
       "      <th>8</th>\n",
       "      <td>3.391150</td>\n",
       "      <td>Hawaiian Airlines</td>\n",
       "    </tr>\n",
       "  </tbody>\n",
       "</table>\n",
       "</div>"
      ],
      "text/plain": [
       "    percent_delayed                      Airline\n",
       "16        19.156288             Spirit Air Lines\n",
       "6         16.089775           Frontier Airlines \n",
       "9         15.180859                    Envoy Air\n",
       "3         14.789599              JetBlue Airways\n",
       "5         14.383793         ExpressJet Airlines \n",
       "11        12.959510            United Air Lines \n",
       "14        12.614928          Southwest Airlines \n",
       "1         12.395202           American Airlines \n",
       "13        12.124099               Virgin America\n",
       "10        11.866243            SkyWest Airlines \n",
       "15        10.247464               Mesa Airlines \n",
       "12         9.549187                  US Airways \n",
       "7          9.282494  AirTran Airways Corporation\n",
       "0          8.580086                Endeavor Air \n",
       "4          8.298007             Delta Air Lines \n",
       "2          6.331633             Alaska Airlines \n",
       "8          3.391150           Hawaiian Airlines "
      ]
     },
     "execution_count": 121,
     "metadata": {},
     "output_type": "execute_result"
    }
   ],
   "source": [
    "carrier_delay"
   ]
  },
  {
   "cell_type": "code",
   "execution_count": 101,
   "metadata": {
    "collapsed": false
   },
   "outputs": [],
   "source": [
    "del df_temp\n",
    "del carrier_delay\n",
    "del df_sub"
   ]
  },
  {
   "cell_type": "code",
   "execution_count": null,
   "metadata": {
    "collapsed": false
   },
   "outputs": [],
   "source": []
  },
  {
   "cell_type": "markdown",
   "metadata": {},
   "source": [
    "## Top 50 Airports: Isolating the top 50 Airports by traffic\n",
    "In this part, we load the entire airline dataset and get a list of the top 50 airports by traffic (Departures + Arrivals). Then we plot the top 50 airports on a map of USA using plotly and cufflinks. "
   ]
  },
  {
   "cell_type": "code",
   "execution_count": 122,
   "metadata": {
    "collapsed": true
   },
   "outputs": [],
   "source": [
    "#Create a new dataframe combining the Arrival and Destination Airports in one column\n",
    "df_airport = pd.DataFrame(pd.concat([df['ORIGIN'],df['DEST']]),columns={'IATA'})"
   ]
  },
  {
   "cell_type": "code",
   "execution_count": 124,
   "metadata": {
    "collapsed": false
   },
   "outputs": [],
   "source": [
    "#Select the Top 50 Airports \n",
    "df_top50 = pd.DataFrame(df_airport['IATA'].value_counts().head(50)).reset_index()\n",
    "df_top50.rename(index=str, columns={\"index\":\"IATA\",\"IATA\":\"Count\"},inplace=True)\n",
    "del df_airport"
   ]
  },
  {
   "cell_type": "markdown",
   "metadata": {},
   "source": [
    "To plot the Airports, we import Latitude and Longitude from [OpenFlights.org](http://openflights.org/data.html)"
   ]
  },
  {
   "cell_type": "code",
   "execution_count": 125,
   "metadata": {
    "collapsed": true
   },
   "outputs": [],
   "source": [
    "#Read Airport data\n",
    "df_airports = pd.read_csv('airports.dat')\n",
    "df_airports = df_airports[df_airports['Country']=='United States'][['IATA','Latitude','Longitude']].copy()"
   ]
  },
  {
   "cell_type": "code",
   "execution_count": 126,
   "metadata": {
    "collapsed": true
   },
   "outputs": [],
   "source": [
    "#Merge with the DataFrame containing the list of Top 50 Airports\n",
    "df_top50 = pd.merge(df_top50,df_airports,how='left',on=\"IATA\")"
   ]
  },
  {
   "cell_type": "code",
   "execution_count": 127,
   "metadata": {
    "collapsed": true
   },
   "outputs": [],
   "source": [
    "#Save the top 50 airports in a CSV file\n",
    "df_top50.to_csv('top50airports.csv',index=False)"
   ]
  },
  {
   "cell_type": "markdown",
   "metadata": {},
   "source": [
    "## Plotting maps with Plotly"
   ]
  },
  {
   "cell_type": "code",
   "execution_count": 128,
   "metadata": {
    "collapsed": false
   },
   "outputs": [
    {
     "name": "stderr",
     "output_type": "stream",
     "text": [
      "INFO:requests.packages.urllib3.connectionpool:Starting new HTTPS connection (1): api.plot.ly\n",
      "INFO:requests.packages.urllib3.connectionpool:Starting new HTTPS connection (1): plot.ly\n"
     ]
    },
    {
     "data": {
      "text/html": [
       "<iframe id=\"igraph\" scrolling=\"no\" style=\"border:none;\" seamless=\"seamless\" src=\"https://plot.ly/~rajarshi.es/8.embed\" height=\"525px\" width=\"100%\"></iframe>"
      ],
      "text/plain": [
       "<plotly.tools.PlotlyDisplay object>"
      ]
     },
     "execution_count": 128,
     "metadata": {},
     "output_type": "execute_result"
    }
   ],
   "source": [
    "#Map the Airports as a Bubble map, with size corresponding to Traffic\n",
    "import plotly.plotly as py\n",
    "\n",
    "#First create a new columns with Textual information\n",
    "df_top50['text'] = df_top50['IATA'] + '<br>Total Flights: ' + (df_top50['Count']/1e3).astype(str)+' (Thousands)'\n",
    "\n",
    "#Create plot using Plotly\n",
    "limits = [(0,10),(11,30),(31,50)]\n",
    "colors = [\"rgb(0,116,217)\",\"rgb(255,65,54)\",\"rgb(133,20,75)\"]\n",
    "names = [\"Top 10 Busiest\",\"11-30\",\"31-50\"]\n",
    "cities = []\n",
    "scale = 2500\n",
    "\n",
    "for i in range(len(limits)):\n",
    "    lim = limits[i]\n",
    "    df_sub = df_top50[lim[0]:lim[1]]\n",
    "    city = dict(\n",
    "        type = 'scattergeo',\n",
    "        locationmode = 'USA-states',\n",
    "        lon = df_sub['Longitude'],\n",
    "        lat = df_sub['Latitude'],\n",
    "        text = df_sub['text'],\n",
    "        marker = dict(\n",
    "            size = df_sub['Count']/scale,\n",
    "            color = colors[i],\n",
    "            line = dict(width=0.5, color='rgb(40,40,40)'),\n",
    "            sizemode = 'area'\n",
    "        ),\n",
    "        name = names[i] )\n",
    "    cities.append(city)\n",
    "    \n",
    "layout = dict(\n",
    "        title = 'Top 50 Busiest Airports by Traffic',\n",
    "        showlegend = True,\n",
    "        geo = dict(\n",
    "            scope='usa',\n",
    "            projection=dict( type='albers usa' ),\n",
    "            showland = True,\n",
    "            landcolor = 'rgb(217, 217, 217)',\n",
    "            subunitwidth=1,\n",
    "            countrywidth=1,\n",
    "            subunitcolor=\"rgb(255, 255, 255)\",\n",
    "            countrycolor=\"rgb(255, 255, 255)\"\n",
    "        ),\n",
    "    )\n",
    "\n",
    "fig = dict( data=cities, layout=layout )\n",
    "py.iplot( fig, validate=False, filename='d3-map-airports' )"
   ]
  },
  {
   "cell_type": "markdown",
   "metadata": {},
   "source": [
    "## Plot flight paths of flights with average delay of more than 10 minutes"
   ]
  },
  {
   "cell_type": "code",
   "execution_count": 133,
   "metadata": {
    "collapsed": false
   },
   "outputs": [],
   "source": [
    "#Make subset of data containing only flights from top 50 airports\n",
    "top50_airport = df_top50['IATA'].tolist()\n",
    "df_sub = df[df['ORIGIN'].isin(top50_airport)]\n",
    "df_sub = df_sub[df_sub['DEST'].isin(top50_airport)]"
   ]
  },
  {
   "cell_type": "code",
   "execution_count": 134,
   "metadata": {
    "collapsed": false
   },
   "outputs": [
    {
     "name": "stdout",
     "output_type": "stream",
     "text": [
      "Data Retained: 62.34 %\n"
     ]
    }
   ],
   "source": [
    "#Check the % of data retained:\n",
    "data_retained = len(df_sub.index)/len(df.index)\n",
    "print('Data Retained: '+str(round(data_retained*100,2))+' %')"
   ]
  },
  {
   "cell_type": "code",
   "execution_count": 148,
   "metadata": {
    "collapsed": false
   },
   "outputs": [],
   "source": [
    "#Create a dataframe of airports for plotting (top50)\n",
    "df_airports = pd.DataFrame(df_sub['ORIGIN'].unique())\n",
    "df_airports.rename(index=str,columns={0:'IATA'},inplace=True)\n",
    "\n",
    "#Read Airport coordinates\n",
    "df_airport_coord = pd.read_csv('airports.dat')\n",
    "df_airport_coord = df_airport_coord[df_airport_coord['Country']=='United States'][['IATA','Latitude','Longitude']].copy()\n",
    "df_airports = pd.merge(df_airports,df_airport_coord,how='left',on=\"IATA\")\n",
    "\n",
    "#Read Airport Full Names\n",
    "airport_key = pd.read_csv('L_AIRPORT.csv')\n",
    "airport_key.rename(index=str, columns={\"Code\": \"IATA\"},inplace=True)\n",
    "df_airports = pd.merge(df_airports,airport_key,how='left',on='IATA')"
   ]
  },
  {
   "cell_type": "code",
   "execution_count": 149,
   "metadata": {
    "collapsed": false
   },
   "outputs": [],
   "source": [
    "#Create a flights dataframe for plotting flight paths\n",
    "df_flights = df_sub[['ORIGIN','DEST','ARR_DELAY']].groupby(by=['ORIGIN','DEST']).mean()\n",
    "df_flights.reset_index(inplace=True)\n",
    "df_flights['ARR_DELAY'] = df_flights['ARR_DELAY'].apply(lambda x:0 if x<0 else round(x))\n",
    "df_flights.dropna(inplace=True)\n",
    "#Select only flight paths with average delay of more than 10 minutes\n",
    "df_flights = df_flights[df_flights['ARR_DELAY']>=10]"
   ]
  },
  {
   "cell_type": "code",
   "execution_count": 150,
   "metadata": {
    "collapsed": false
   },
   "outputs": [],
   "source": [
    "#Add start and end latitude and longitude for each flight\n",
    "df_flights = pd.merge(df_flights,df_airports[['IATA','Latitude','Longitude']],how='left',left_on = 'ORIGIN', right_on = 'IATA')\n",
    "df_flights.rename(index=str, columns={\"Latitude\": \"start_lat\"},inplace=True)\n",
    "df_flights.rename(index=str, columns={\"Longitude\": \"start_lon\"},inplace=True)\n",
    "\n",
    "df_flights = pd.merge(df_flights,df_airports[['IATA','Latitude','Longitude']],how='left',left_on = 'DEST', right_on = 'IATA')\n",
    "df_flights.rename(index=str, columns={\"Latitude\": \"end_lat\"},inplace=True)\n",
    "df_flights.rename(index=str, columns={\"Longitude\": \"end_lon\"},inplace=True)\n",
    "\n",
    "df_flights.drop(['IATA_x','IATA_y'],axis=1,inplace=True)"
   ]
  },
  {
   "cell_type": "code",
   "execution_count": 151,
   "metadata": {
    "collapsed": false
   },
   "outputs": [],
   "source": [
    "#Remove Honolulu\n",
    "df_flights = df_flights[df_flights['ORIGIN']!='HNL'].copy()\n",
    "df_flights = df_flights[df_flights['DEST']!='HNL'].copy()\n",
    "df_airports = df_airports[df_airports['IATA']!='HNL'].copy()"
   ]
  },
  {
   "cell_type": "code",
   "execution_count": 152,
   "metadata": {
    "collapsed": false
   },
   "outputs": [
    {
     "name": "stderr",
     "output_type": "stream",
     "text": [
      "INFO:requests.packages.urllib3.connectionpool:Starting new HTTPS connection (1): plot.ly\n"
     ]
    },
    {
     "data": {
      "text/html": [
       "<iframe id=\"igraph\" scrolling=\"no\" style=\"border:none;\" seamless=\"seamless\" src=\"https://plot.ly/~rajarshi.es/10.embed\" height=\"525px\" width=\"100%\"></iframe>"
      ],
      "text/plain": [
       "<plotly.tools.PlotlyDisplay object>"
      ]
     },
     "execution_count": 152,
     "metadata": {},
     "output_type": "execute_result"
    }
   ],
   "source": [
    "import plotly.plotly as py\n",
    "\n",
    "airports = [ dict(\n",
    "        type = 'scattergeo',\n",
    "        locationmode = 'USA-states',\n",
    "        lon = df_airports['Longitude'],\n",
    "        lat = df_airports['Latitude'],\n",
    "        hoverinfo = 'text',\n",
    "        text = df_airports['Description'],\n",
    "        mode = 'markers',\n",
    "        marker = dict( \n",
    "            size=2, \n",
    "            color='rgb(0, 0, 0)',\n",
    "            line = dict(\n",
    "                width=3,\n",
    "                color='rgba(68, 68, 68, 0)'\n",
    "            )\n",
    "        ))]\n",
    "        \n",
    "flight_paths = []\n",
    "for i in range( len( df_flights ) ):\n",
    "    flight_paths.append(\n",
    "        dict(\n",
    "            type = 'scattergeo',\n",
    "            locationmode = 'USA-states',\n",
    "            lon = [ df_flights['start_lon'][i], df_flights['end_lon'][i] ],\n",
    "            lat = [ df_flights['start_lat'][i], df_flights['end_lat'][i] ],\n",
    "            mode = 'lines',\n",
    "            line = dict(\n",
    "                #width = 5,\n",
    "                width = (float((df_flights['ARR_DELAY'][i]-1)-df_flights['ARR_DELAY'].min())/(float(df_flights['ARR_DELAY'].max()-df_flights['ARR_DELAY'].min())/2.0))+2,\n",
    "                color = 'red'\n",
    "            ),\n",
    "            #opacity = 1\n",
    "            opacity = float(df_flights['ARR_DELAY'][i])/float(df_flights['ARR_DELAY'].max()),\n",
    "        )\n",
    "    )\n",
    "    \n",
    "layout = dict(\n",
    "        title = 'Routes with an average delay of more than 10 minutes (2013-2016)',\n",
    "        showlegend = False, \n",
    "        geo = dict(\n",
    "            scope='usa',\n",
    "            projection=dict( type='albers usa' ),\n",
    "            #scope='north america',\n",
    "            #projection=dict( type='azimuthal equal area' ),\n",
    "            showland = True,\n",
    "            landcolor = 'rgb(243, 243, 243)',\n",
    "            countrycolor = 'rgb(204, 204, 204)',\n",
    "        ),\n",
    "    )\n",
    "    \n",
    "fig = dict( data=flight_paths + airports, layout=layout )\n",
    "py.iplot( fig, filename='d3-flight-paths' )\n"
   ]
  },
  {
   "cell_type": "code",
   "execution_count": null,
   "metadata": {
    "collapsed": false
   },
   "outputs": [],
   "source": []
  },
  {
   "cell_type": "code",
   "execution_count": null,
   "metadata": {
    "collapsed": true
   },
   "outputs": [],
   "source": []
  }
 ],
 "metadata": {
  "kernelspec": {
   "display_name": "Python [conda root]",
   "language": "python",
   "name": "conda-root-py"
  },
  "language_info": {
   "codemirror_mode": {
    "name": "ipython",
    "version": 3
   },
   "file_extension": ".py",
   "mimetype": "text/x-python",
   "name": "python",
   "nbconvert_exporter": "python",
   "pygments_lexer": "ipython3",
   "version": "3.5.2"
  }
 },
 "nbformat": 4,
 "nbformat_minor": 1
}
