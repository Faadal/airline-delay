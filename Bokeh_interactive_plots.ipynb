{
 "cells": [
  {
   "cell_type": "markdown",
   "metadata": {},
   "source": [
    "### Creating interactive plots using bokeh"
   ]
  },
  {
   "cell_type": "code",
   "execution_count": 1,
   "metadata": {
    "collapsed": true
   },
   "outputs": [],
   "source": [
    "import pandas as pd\n",
    "import numpy as np"
   ]
  },
  {
   "cell_type": "code",
   "execution_count": 2,
   "metadata": {
    "collapsed": true
   },
   "outputs": [],
   "source": [
    "df = pd.read_csv('Full_airline_data.csv')"
   ]
  },
  {
   "cell_type": "code",
   "execution_count": 4,
   "metadata": {
    "collapsed": true
   },
   "outputs": [],
   "source": [
    "#Get the list of the 10 biggest Airline Carriers\n",
    "top10_carrier = list(df['UNIQUE_CARRIER'].value_counts().head(10).index)\n",
    "\n",
    "#Read the Carrier Key CSV file for full names of the Airlines\n",
    "carrier_key = pd.read_csv('L_UNIQUE_CARRIERS.csv')"
   ]
  },
  {
   "cell_type": "code",
   "execution_count": 5,
   "metadata": {
    "collapsed": true
   },
   "outputs": [],
   "source": [
    "#Visualize the POSITIVE_ARR_DELAYS for top 10 airlines \n",
    "\n",
    "#Get the list of the 10 biggest Airline Carriers\n",
    "df_sub = df[df['UNIQUE_CARRIER'].isin(top10_carrier)][['UNIQUE_CARRIER','DEP_HOUR','ARR_DELAY']].copy()\n",
    "#Since we are considering only flight delays, we ignore early landings\n",
    "#ARR_DELAY < 0 means the flight landed before its CRS_ARR_TIME\n",
    "df_sub['ARR_DELAY'] = df_sub['ARR_DELAY'].apply(lambda x:0 if x<0 else x)\n",
    "\n",
    "#Merge the airline names\n",
    "df_sub = pd.merge(df_sub,carrier_key,how='left',left_on='UNIQUE_CARRIER', right_on='Code')\n",
    "df_sub.drop(['UNIQUE_CARRIER','Code'],axis=1,inplace=True)"
   ]
  },
  {
   "cell_type": "code",
   "execution_count": 6,
   "metadata": {
    "collapsed": true
   },
   "outputs": [],
   "source": [
    "#Create an numpy array to store the averaged carrier delays\n",
    "arr_delay = np.ndarray(shape=(10,25)) #1 for each hour of the day, and 1 for daily averages\n",
    "\n",
    "#Mean delay (daily average)\n",
    "df_mean = df_sub[['ARR_DELAY','Description']].groupby('Description').mean().reset_index()\n",
    "#df_mean = pd.merge(df_mean,carrier_key,how='left',on='IATA')\n",
    "arr_delay[:,24] = np.array(df_mean['ARR_DELAY'])\n",
    "\n",
    "#delays grouped by Departure Hour\n",
    "df_hourly = df_sub.groupby(by=['Description','DEP_HOUR']).mean()['ARR_DELAY'].unstack()\n",
    "df_hourly.fillna(0,inplace=True)\n",
    "arr_delay[:,0:24]=np.array(df_hourly)\n",
    "\n",
    "arr_delay = arr_delay*2.0"
   ]
  },
  {
   "cell_type": "code",
   "execution_count": 7,
   "metadata": {
    "collapsed": true
   },
   "outputs": [],
   "source": [
    "###  Interaction in Bokeh charts using widgets\n",
    "\n",
    "from bokeh.models import  Callback, ColumnDataSource, Rect,CustomJS, LabelSet\n",
    "from bokeh.plotting import figure, output_file, show, gridplot\n",
    "from bokeh.layouts import row, column,widgetbox\n",
    "from bokeh.models import CustomJS, Slider, Select\n",
    "import numpy as np\n",
    "from math import pi\n",
    "\n",
    "\n",
    "#data\n",
    "carrier = df_mean['Description'].tolist()\n",
    "ages_gen = '0 1 2 3 4 5 6 7 8 9 10 11 12 13 14 15 16 17 18 19 20 21 22 23 24'.split()\n",
    "\n",
    "#source for callback\n",
    "source = ColumnDataSource(data=dict(x=carrier, y = np.zeros(10),height = arr_delay[:,24], \n",
    "                                     height0 = arr_delay[:,0],\n",
    "                                     height1 = arr_delay[:,1],\n",
    "                                     height2 = arr_delay[:,2],\n",
    "                                     height3 = arr_delay[:,3],\n",
    "                                     height4 = arr_delay[:,4],\n",
    "                                     height5 = arr_delay[:,5],\n",
    "                                     height6 = arr_delay[:,6],\n",
    "                                     height7 = arr_delay[:,7],\n",
    "                                     height8 = arr_delay[:,8],\n",
    "                                     height9 = arr_delay[:,9],\n",
    "                                     height10 = arr_delay[:,10],\n",
    "                                     height11 = arr_delay[:,11],\n",
    "                                     height12 = arr_delay[:,12],\n",
    "                                     height13 = arr_delay[:,13],\n",
    "                                     height14 = arr_delay[:,14],\n",
    "                                     height15 = arr_delay[:,15],\n",
    "                                     height16 = arr_delay[:,16],\n",
    "                                     height17 = arr_delay[:,17],\n",
    "                                     height18 = arr_delay[:,18],\n",
    "                                     height19 = arr_delay[:,19],\n",
    "                                     height20 = arr_delay[:,20],\n",
    "                                     height21 = arr_delay[:,21],\n",
    "                                     height22 = arr_delay[:,22],\n",
    "                                     height23 = arr_delay[:,23],\n",
    "                                     height24 = arr_delay[:,24]))\n",
    "\n",
    "source2 = ColumnDataSource(data=dict(title=[\"Daily Average\"],h1 = [\"Hourly\"],h2 = [\"Daily Average\"]))\n",
    "\n",
    "\n",
    "#Javascript Callbacks for Departure Hour\n",
    "Callback_Hour = CustomJS(args={'source1': source,'source2':source2}, code=\"\"\"\n",
    "        var f = cb_obj.get('value');\n",
    "        var data1 = source1.get('data');\n",
    "        var data2 = source2.get('data');\n",
    "        \n",
    "        data1['height'] = data1['height'+f.toString()];\n",
    "        source1.trigger('change');\n",
    "        \n",
    "        var f = cb_obj.get('value');\n",
    "        if (f==24){\n",
    "            data2['title'] = data2['h2'];\n",
    "            source2.trigger('change');\n",
    "            }\n",
    "        else {\n",
    "            data2['title'] = data2['h1'];\n",
    "            source2.trigger('change');\n",
    "            }\n",
    "    \"\"\")\n",
    "\n",
    "#Figure for Stacked bar chart\n",
    "p1 = figure(title=\"Average flight delay\", \n",
    "            x_range=carrier, y_range=[0, 30],\n",
    "            plot_width=600, plot_height = 350,\n",
    "            outline_line_color= None,\n",
    "            toolbar_location='above')\n",
    "p1.background_fill_color = '#e3e0db' \n",
    "p1.xaxis.major_label_orientation = pi/4\n",
    "p1.xaxis.axis_label = 'Airline Carrier'\n",
    "p1.yaxis.axis_label = 'Average Delay'\n",
    "\n",
    "\n",
    "#Create Barchart using rect glyphs\n",
    "p1.rect(x ='x', y ='y', width =.8, height = 'height', source = source, color=\"#720017\", alpha=0.95, name = \"Airline Delay\")\n",
    "#Create label \n",
    "labels = LabelSet(x=0, y=0, text='title', level='glyph',x_offset=35, y_offset=170, source=source2, render_mode='canvas')\n",
    "p1.add_layout(labels)\n",
    "\n",
    "#Create the slider\n",
    "hour_slider = Slider(start=0, end=24, value=24, step=1,title=\"Departure Hour\", callback=Callback_Hour)\n",
    "#Alternately:\n",
    "#hour_slider = Select(title=\"Departure Hour:\", value=ages_gen[24], options= ages_gen,  callback = Callback_Hour)\n",
    "\n",
    "layout = column(p1,widgetbox(hour_slider))\n",
    "output_file(\"slider.html\", title=\"slider.py example\")\n",
    "\n",
    "show(layout)"
   ]
  },
  {
   "cell_type": "code",
   "execution_count": 8,
   "metadata": {
    "collapsed": false
   },
   "outputs": [
    {
     "name": "stdout",
     "output_type": "stream",
     "text": [
      "\n",
      "<script\n",
      "    src=\"https://xcitech.github.io/assets/bokeh_js/interact_barchart_select.js\"\n",
      "    id=\"c5bda6c6-c641-40fc-a717-00c1664383a3\"\n",
      "    data-bokeh-model-id=\"240d4c27-2526-439b-bbc2-4076fdecc10c\"\n",
      "    data-bokeh-doc-id=\"05cacb08-3476-4ae1-8f9c-9ebe42f821e5\"\n",
      "></script>\n"
     ]
    }
   ],
   "source": [
    "#Create the javascript code and script tag to embed in the blog\n",
    "from bokeh.resources import CDN\n",
    "from bokeh.embed import autoload_static\n",
    "\n",
    "js, tag = autoload_static(layout, CDN, \"https://xcitech.github.io/assets/bokeh_js/interact_barchart_select.js\")\n",
    "\n",
    "f = open( 'interact_barchart_select.js', 'w' )\n",
    "f.write(js)\n",
    "f.close()\n",
    "print(tag)"
   ]
  },
  {
   "cell_type": "markdown",
   "metadata": {
    "collapsed": true
   },
   "source": [
    "## Interactive Heat Maps with Bokeh"
   ]
  },
  {
   "cell_type": "code",
   "execution_count": 3,
   "metadata": {
    "collapsed": true
   },
   "outputs": [],
   "source": [
    "df_sub = df[['UNIQUE_CARRIER','DAY_OF_WEEK','DEP_HOUR','ARR_DELAY']]\n",
    "\n",
    "#Remove datapoints which have erroneous DAY_OF_WEEK\n",
    "df_sub = df_sub.drop(df_sub[df_sub['DAY_OF_WEEK']==9].index) \n",
    "#Since we are considering only flight delays, we ignore early landings\n",
    "#ARR_DELAY < 0 means the flight landed before its CRS_ARR_TIME\n",
    "df_sub['ARR_DELAY'] = df_sub['ARR_DELAY'].apply(lambda x:0 if x<0 else x)"
   ]
  },
  {
   "cell_type": "code",
   "execution_count": 4,
   "metadata": {
    "collapsed": true
   },
   "outputs": [],
   "source": [
    "#Get the list of the 10 biggest Airline Carriers\n",
    "top10_carrier = pd.DataFrame(df_sub['UNIQUE_CARRIER'].value_counts().head(10))\n",
    "top10_carrier.reset_index(inplace=True)\n",
    "top10_carrier.rename(index=str, columns={\"index\": \"IATA\"},inplace=True)"
   ]
  },
  {
   "cell_type": "code",
   "execution_count": 5,
   "metadata": {
    "collapsed": true
   },
   "outputs": [],
   "source": [
    "#Load the L_UNIQUE_CARRIERS.csv for the full names of the IATA codes\n",
    "carrier_key = pd.read_csv('L_UNIQUE_CARRIERS.csv')\n",
    "carrier_key.rename(index=str, columns={\"Code\": \"IATA\"},inplace=True)\n",
    "\n",
    "#Merge with the dataframe containing the 10 biggest Airline Carriers\n",
    "top10_carrier = pd.merge(top10_carrier,carrier_key,how='left',on='IATA')"
   ]
  },
  {
   "cell_type": "code",
   "execution_count": 6,
   "metadata": {
    "collapsed": true
   },
   "outputs": [],
   "source": [
    "#Bokeh code"
   ]
  },
  {
   "cell_type": "code",
   "execution_count": 7,
   "metadata": {
    "collapsed": true
   },
   "outputs": [],
   "source": [
    "from bokeh.charts import HeatMap\n",
    "from bokeh.io import output_file, show\n",
    "from bokeh.palettes import OrRd9\n",
    "from bokeh.models import Range1d, LinearColorMapper, ColorBar\n",
    "from bokeh.models.widgets import Panel, Tabs"
   ]
  },
  {
   "cell_type": "code",
   "execution_count": 8,
   "metadata": {
    "collapsed": true
   },
   "outputs": [],
   "source": [
    "def create_heatmap(df_sub, desc='Average Flight Delays'):\n",
    "    dayHour = df_sub.groupby(by=['DAY_OF_WEEK','DEP_HOUR']).mean()\n",
    "    dayHour.reset_index(inplace=True)\n",
    "    \n",
    "    dayHour['DAY_OF_WEEK'].replace(1,'Monday',inplace=True)\n",
    "    dayHour['DAY_OF_WEEK'].replace(2,'Tuesday',inplace=True)\n",
    "    dayHour['DAY_OF_WEEK'].replace(3,'Wednesday',inplace=True)\n",
    "    dayHour['DAY_OF_WEEK'].replace(4,'Thursday',inplace=True)\n",
    "    dayHour['DAY_OF_WEEK'].replace(5,'Friday',inplace=True)\n",
    "    dayHour['DAY_OF_WEEK'].replace(6,'Saturday',inplace=True)\n",
    "    dayHour['DAY_OF_WEEK'].replace(7,'Sunday',inplace=True)\n",
    "    \n",
    "    dayHour['ARR_DELAY'] = dayHour['ARR_DELAY'].apply(lambda x:30 if x>30 else x)\n",
    "    df_cali = pd.DataFrame([['Monday',24, 0], ['Sunday',24, 30]], columns=('DAY_OF_WEEK','DEP_HOUR','ARR_DELAY'))\n",
    "    dayHour = dayHour.append(df_cali)\n",
    "    \n",
    "    hm = HeatMap(dayHour, y='DAY_OF_WEEK', x='DEP_HOUR', values='ARR_DELAY', stat=None,\n",
    "             width=600, plot_height=330, palette=OrRd9, ylabel='Day of the Week', xlabel='Departure Hour',\n",
    "             legend = False,\n",
    "             title= desc, toolbar_location='above')\n",
    "    hm.x_range = Range1d(0, 23)\n",
    "    \n",
    "    #Add the Colorbar. Its a bit complicated in Bokeh\n",
    "    Invert_OrRd9 = OrRd9[::-1]\n",
    "    color_mapper = LinearColorMapper(palette=Invert_OrRd9, low=0, high=30)\n",
    "\n",
    "    color_bar = ColorBar(color_mapper=color_mapper, label_standoff=12, location=(0,0))\n",
    "    hm.add_layout(color_bar, 'right')\n",
    "    \n",
    "    return hm"
   ]
  },
  {
   "cell_type": "code",
   "execution_count": 9,
   "metadata": {
    "collapsed": true
   },
   "outputs": [],
   "source": [
    "def create_tab(df_sub,k):\n",
    "    hm = create_heatmap(df_sub[df_sub['UNIQUE_CARRIER']==top10_carrier['IATA'][k-1]],desc = top10_carrier['Description'][k-1])\n",
    "    tab = Panel(child=hm, title=top10_carrier['IATA'][k-1])\n",
    "    return tab"
   ]
  },
  {
   "cell_type": "code",
   "execution_count": 10,
   "metadata": {
    "collapsed": true
   },
   "outputs": [],
   "source": [
    "#Create 11 heatmaps, 1 for all flights, and 10 each for the 10 biggest airlines\n",
    "hm = create_heatmap(df_sub)\n",
    "tab0 = Panel(child=hm, title=\"Overall\")\n",
    "\n",
    "tab1 = create_tab(df_sub,1)\n",
    "tab2 = create_tab(df_sub,2)\n",
    "tab3 = create_tab(df_sub,3)\n",
    "tab4 = create_tab(df_sub,4)\n",
    "tab5 = create_tab(df_sub,5)\n",
    "tab6 = create_tab(df_sub,6)\n",
    "tab7 = create_tab(df_sub,7)\n",
    "tab8 = create_tab(df_sub,8)\n",
    "tab9 = create_tab(df_sub,9)\n",
    "tab10 = create_tab(df_sub,10)"
   ]
  },
  {
   "cell_type": "code",
   "execution_count": 11,
   "metadata": {
    "collapsed": true
   },
   "outputs": [],
   "source": [
    "#Display in browser\n",
    "output_file(\"heatmap.html\")\n",
    "tabs = Tabs(tabs=[ tab0, tab1, tab2, tab3, tab4, tab5, tab6, tab7, tab8, tab9, tab10])\n",
    "show(tabs)"
   ]
  },
  {
   "cell_type": "code",
   "execution_count": 12,
   "metadata": {
    "collapsed": false
   },
   "outputs": [
    {
     "name": "stdout",
     "output_type": "stream",
     "text": [
      "\n",
      "<script\n",
      "    src=\"https://xcitech.github.io/assets/bokeh_js/heatmap1.js\"\n",
      "    id=\"7e7ddf43-63b4-4b79-a06d-214aac9b7cca\"\n",
      "    data-bokeh-model-id=\"efdbc2ca-c9c1-4014-895d-a6ed8f7f0346\"\n",
      "    data-bokeh-doc-id=\"70a0312c-6e6d-48d2-9133-ef5dbc9c9f40\"\n",
      "></script>\n"
     ]
    }
   ],
   "source": [
    "#Create the javascript code and script tag to embed in the blog\n",
    "from bokeh.resources import CDN\n",
    "from bokeh.embed import autoload_static\n",
    "\n",
    "js, tag = autoload_static(tabs, CDN, \"https://xcitech.github.io/assets/bokeh_js/heatmap1.js\")\n",
    "\n",
    "f = open( 'heatmap1.js', 'w' )\n",
    "f.write(js)\n",
    "f.close()\n",
    "print(tag)"
   ]
  },
  {
   "cell_type": "code",
   "execution_count": null,
   "metadata": {
    "collapsed": true
   },
   "outputs": [],
   "source": []
  },
  {
   "cell_type": "markdown",
   "metadata": {
    "collapsed": false
   },
   "source": [
    "## Create bokeh charts for predicted weather discounted arrival delays"
   ]
  },
  {
   "cell_type": "code",
   "execution_count": 2,
   "metadata": {
    "collapsed": true
   },
   "outputs": [],
   "source": [
    "#Read the predicted airline data csv file\n",
    "\n",
    "df = pd.read_csv('predicted_first.csv')[['UNIQUE_CARRIER','DEP_HOUR','ARR_DELAY','predicted_delay']]\n",
    "\n",
    "#Since we are considering only flight delays, we ignore early landings\n",
    "#ARR_DELAY < 0 means the flight landed before its CRS_ARR_TIME\n",
    "#df['ARR_DELAY'] = df['ARR_DELAY'].apply(lambda x:x if x>5 else 0)\n",
    "df.rename(index=str, columns={\"UNIQUE_CARRIER\": \"IATA\"},inplace=True)"
   ]
  },
  {
   "cell_type": "code",
   "execution_count": 3,
   "metadata": {
    "collapsed": true
   },
   "outputs": [],
   "source": [
    "#Get the list of the 10 biggest Airline Carriers\n",
    "top10_carrier = pd.DataFrame(df['IATA'].value_counts().head(10))\n",
    "top10_carrier.reset_index(inplace=True)\n",
    "top10_carrier.rename(index=str, columns={\"IATA\": \"count\"},inplace=True)\n",
    "top10_carrier.rename(index=str, columns={\"index\": \"IATA\"},inplace=True)\n",
    "\n",
    "#Consider data from only the top 10 Airlines\n",
    "df = df[df['IATA'].isin(top10_carrier['IATA'])].copy()\n",
    "\n",
    "#Load the L_UNIQUE_CARRIERS.csv for the full names of the IATA codes of the Airlines\n",
    "carrier_key = pd.read_csv('L_UNIQUE_CARRIERS.csv')\n",
    "carrier_key.rename(index=str, columns={\"Code\": \"IATA\"},inplace=True)"
   ]
  },
  {
   "cell_type": "code",
   "execution_count": 4,
   "metadata": {
    "collapsed": true
   },
   "outputs": [],
   "source": [
    "#Create an numpy array to store the averaged carrier delays\n",
    "arr_delay = np.ndarray(shape=(10,5)) #1 for each hour of the day, and 1 for daily averages\n",
    "predicted_delay = np.ndarray(shape=(10,5)) #1 for each hour of the day, and 1 for daily averages\n",
    "\n",
    "#Mean delay (daily average)\n",
    "df_mean = df[['IATA','ARR_DELAY','predicted_delay']].groupby('IATA').mean().reset_index()\n",
    "df_mean = pd.merge(df_mean,carrier_key,how='left',on='IATA')\n",
    "arr_delay[:,4] = np.array(df_mean['ARR_DELAY'])\n",
    "predicted_delay[:,4] = np.array(df_mean['predicted_delay'])\n",
    "\n",
    "#delays grouped by Departure Hour\n",
    "\n",
    "df_hourly = df[df['DEP_HOUR'].isin([23,1,2,3,4,5,6,7,8,9,10])].groupby('IATA').mean().reset_index()\n",
    "arr_delay[:,0]=np.array(df_hourly['ARR_DELAY'])\n",
    "predicted_delay[:,0]=np.array(df_hourly['predicted_delay'])\n",
    "\n",
    "df_hourly = df[df['DEP_HOUR'].isin([11,12,13,14,15])].groupby('IATA').mean().reset_index()\n",
    "arr_delay[:,1]=np.array(df_hourly['ARR_DELAY'])\n",
    "predicted_delay[:,1]=np.array(df_hourly['predicted_delay'])\n",
    "\n",
    "df_hourly = df[df['DEP_HOUR'].isin([16,17,18,19])].groupby('IATA').mean().reset_index()\n",
    "arr_delay[:,2]=np.array(df_hourly['ARR_DELAY'])\n",
    "predicted_delay[:,2]=np.array(df_hourly['predicted_delay'])\n",
    "\n",
    "df_hourly = df[df['DEP_HOUR'].isin([20,21,22])].groupby('IATA').mean().reset_index()\n",
    "arr_delay[:,3]=np.array(df_hourly['ARR_DELAY'])\n",
    "predicted_delay[:,3]=np.array(df_hourly['predicted_delay'])\n",
    "\n",
    "arr_delay = arr_delay*2.0\n",
    "predicted_delay = predicted_delay*2.0"
   ]
  },
  {
   "cell_type": "code",
   "execution_count": 5,
   "metadata": {
    "collapsed": true
   },
   "outputs": [],
   "source": [
    "from bokeh.models import  Callback, ColumnDataSource, Rect,CustomJS, LabelSet\n",
    "from bokeh.plotting import figure, output_file, show, gridplot\n",
    "from bokeh.layouts import row, column,widgetbox\n",
    "from bokeh.models import CustomJS, Slider, Select\n",
    "import numpy as np\n",
    "from math import pi\n",
    "\n",
    "#data\n",
    "carrier = df_mean['Description'].tolist()\n",
    "ages_gen = '0 1 2 3 4 5 6 7 8 9 10 11 12 13 14 15 16 17 18 19 20 21 22 23 24'.split()\n",
    "\n",
    "#source for callback\n",
    "source1 = ColumnDataSource(data=dict(x=carrier, y = np.zeros(10),height = arr_delay[:,4], \n",
    "                                     height0 = arr_delay[:,0],\n",
    "                                     height1 = arr_delay[:,1],\n",
    "                                     height2 = arr_delay[:,2],\n",
    "                                     height3 = arr_delay[:,3],\n",
    "                                     height4 = arr_delay[:,4]))\n",
    "\n",
    "source2 = ColumnDataSource(data=dict(x=carrier, y = np.zeros(10),height = predicted_delay[:,4], \n",
    "                                     height0 = predicted_delay[:,0],\n",
    "                                     height1 = predicted_delay[:,1],\n",
    "                                     height2 = predicted_delay[:,2],\n",
    "                                     height3 = predicted_delay[:,3],\n",
    "                                     height4 = predicted_delay[:,4]))\n",
    "\n",
    "source3 = ColumnDataSource(data=dict(title=[\"Daily Average\"],\n",
    "                                     h0 = [\"Morning\"],\n",
    "                                     h1 = [\"Afternoon\"],\n",
    "                                     h2 = [\"Evening\"],\n",
    "                                     h3 = [\"Night\"],\n",
    "                                     h4 = [\"Daily Average\"]))\n",
    "\n",
    "\n",
    "#Javascript Callbacks for Departure Hour\n",
    "Callback_Hour = CustomJS(args={'source1': source1,'source2':source2,'source3':source3}, code=\"\"\"\n",
    "        var f = cb_obj.get('value');\n",
    "        var data1 = source1.get('data');\n",
    "        var data2 = source2.get('data');\n",
    "        var data3 = source3.get('data');\n",
    "        \n",
    "        data1['height'] = data1['height'+f.toString()];\n",
    "        source1.trigger('change');\n",
    "        \n",
    "        data2['height'] = data2['height'+f.toString()];\n",
    "        source2.trigger('change');\n",
    "        \n",
    "        data3['title'] = data3['h'+f.toString()];\n",
    "        source3.trigger('change');\n",
    "        \n",
    "    \"\"\")\n",
    "\n",
    "#Figure for Stacked bar chart\n",
    "p1 = figure(title=\"Average flight delay\", \n",
    "            x_range=carrier, y_range=[0, 30],\n",
    "            plot_width=600, plot_height = 350,\n",
    "            outline_line_color= None,\n",
    "            toolbar_location='above')\n",
    "p1.background_fill_color = '#e3e0db' \n",
    "p1.xaxis.major_label_orientation = pi/4\n",
    "p1.xaxis.axis_label = 'Airline Carrier'\n",
    "p1.yaxis.axis_label = 'Average Delay'\n",
    "\n",
    "#Create Barchart using rect glyphs\n",
    "p1.rect(x ='x', y ='y', width =.8, height = 'height', source = source1, color=\"#F47C3A\", alpha=0.35, name = \"Airline Delay\", legend = \"Actual Delays\")\n",
    "\n",
    "#Create Barchart using rect glyphs for weather corrected delays\n",
    "p1.rect(x ='x', y ='y', width =.8, height = 'height', source = source2, color=\"#720017\", alpha=0.95, name = \"Airline Delay\", legend = \"Weather accounted Delays\")\n",
    "\n",
    "\n",
    "#Create label \n",
    "labels = LabelSet(x=0, y=0, text='title', level='glyph',x_offset=35, y_offset=170, source=source3, render_mode='canvas')\n",
    "p1.add_layout(labels)\n",
    "\n",
    "#Create the slider\n",
    "hour_slider = Slider(start=0, end=4, value=4, step=1,title=\"Departure Hour\", callback=Callback_Hour)\n",
    "#Alternately:\n",
    "#hour_slider = Select(title=\"Departure Hour:\", value=ages_gen[24], options= ages_gen,  callback = Callback_Hour)\n",
    "\n",
    "layout = column(p1,widgetbox(hour_slider))\n",
    "output_file(\"slider.html\", title=\"slider.py example\")\n",
    "\n",
    "show(layout)"
   ]
  },
  {
   "cell_type": "code",
   "execution_count": 6,
   "metadata": {
    "collapsed": false
   },
   "outputs": [
    {
     "name": "stdout",
     "output_type": "stream",
     "text": [
      "\n",
      "<script\n",
      "    src=\"https://xcitech.github.io/assets/bokeh_js/interact_barchart2.js\"\n",
      "    id=\"9c176959-b0dc-40c6-94f6-c2e1bf976718\"\n",
      "    data-bokeh-model-id=\"0b5e5e96-1592-49f2-8699-471b9a23259f\"\n",
      "    data-bokeh-doc-id=\"0f42d7dc-ed11-441b-8dd4-5e3cf3688c30\"\n",
      "></script>\n"
     ]
    }
   ],
   "source": [
    "#Create the javascript code and script tag to embed in the blog\n",
    "from bokeh.resources import CDN\n",
    "from bokeh.embed import autoload_static\n",
    "\n",
    "js, tag = autoload_static(layout, CDN, \"https://xcitech.github.io/assets/bokeh_js/interact_barchart2.js\")\n",
    "\n",
    "f = open( 'interact_barchart2.js', 'w' )\n",
    "f.write(js)\n",
    "f.close()\n",
    "print(tag)"
   ]
  },
  {
   "cell_type": "code",
   "execution_count": null,
   "metadata": {
    "collapsed": true
   },
   "outputs": [],
   "source": []
  }
 ],
 "metadata": {
  "anaconda-cloud": {},
  "kernelspec": {
   "display_name": "Python [conda root]",
   "language": "python",
   "name": "conda-root-py"
  },
  "language_info": {
   "codemirror_mode": {
    "name": "ipython",
    "version": 3
   },
   "file_extension": ".py",
   "mimetype": "text/x-python",
   "name": "python",
   "nbconvert_exporter": "python",
   "pygments_lexer": "ipython3",
   "version": "3.5.2"
  }
 },
 "nbformat": 4,
 "nbformat_minor": 1
}
